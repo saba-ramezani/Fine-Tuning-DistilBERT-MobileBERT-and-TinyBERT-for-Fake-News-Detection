{
  "nbformat": 4,
  "nbformat_minor": 0,
  "metadata": {
    "colab": {
      "provenance": [],
      "gpuType": "T4",
      "mount_file_id": "1jS2OaX5FZhW0235rU9F8PTNHMdkuNc7F",
      "authorship_tag": "ABX9TyM1Fb+p4fgP33snA6g2XWhB",
      "include_colab_link": true
    },
    "kernelspec": {
      "name": "python3",
      "display_name": "Python 3"
    },
    "language_info": {
      "name": "python"
    },
    "accelerator": "GPU"
  },
  "cells": [
    {
      "cell_type": "markdown",
      "metadata": {
        "id": "view-in-github",
        "colab_type": "text"
      },
      "source": [
        "<a href=\"https://colab.research.google.com/github/saba-ramezani/Fine-Tuning-DistilBERT-MobileBERT-and-TinyBERT-for-Fake-News-Detection/blob/main/Fine_Tuning_DistilBERT_MobileBERT_TinyBERT_For_Fake_News_Detection.ipynb\" target=\"_parent\"><img src=\"https://colab.research.google.com/assets/colab-badge.svg\" alt=\"Open In Colab\"/></a>"
      ]
    },
    {
      "cell_type": "markdown",
      "source": [
        "# Fine Tuning DistilBERT, MobileBERT and TinyBERT for Fake News Detection"
      ],
      "metadata": {
        "id": "ZKinhDB1VFHW"
      }
    },
    {
      "cell_type": "markdown",
      "source": [
        "## 1. Load the Fake news dataset"
      ],
      "metadata": {
        "id": "G21mYLIgV90V"
      }
    },
    {
      "cell_type": "code",
      "source": [
        "# !pip install -U transformers\n",
        "# !pip install -U accelerate\n",
        "# !pip install -U datasets\n",
        "# !pip install -U bertviz\n",
        "# !pip install -U umap-learn\n",
        "# !pip install seaborn --upgrade\n",
        "\n",
        "# !pip install -U openpyxl"
      ],
      "metadata": {
        "id": "3Z1TFP6TU_Uu",
        "collapsed": true
      },
      "execution_count": null,
      "outputs": []
    },
    {
      "cell_type": "code",
      "source": [
        "import warnings\n",
        "warnings.filterwarnings('ignore')"
      ],
      "metadata": {
        "id": "P1S7G0svVqyN"
      },
      "execution_count": null,
      "outputs": []
    },
    {
      "cell_type": "code",
      "source": [
        "import pandas as pd\n",
        "\n",
        "df = pd.read_excel(\"https://github.com/laxmimerit/All-CSV-ML-Data-Files-Download/raw/master/fake_news.xlsx\")"
      ],
      "metadata": {
        "id": "SHoiSorFVsZ9"
      },
      "execution_count": null,
      "outputs": []
    },
    {
      "cell_type": "code",
      "source": [
        "df"
      ],
      "metadata": {
        "colab": {
          "base_uri": "https://localhost:8080/",
          "height": 424
        },
        "id": "F9sQKqucVt01",
        "outputId": "f9d2cbbe-83e3-4386-856f-09576b330f8f"
      },
      "execution_count": null,
      "outputs": [
        {
          "output_type": "execute_result",
          "data": {
            "text/plain": [
              "          id                                              title  \\\n",
              "0          0  House Dem Aide: We Didn’t Even See Comey’s Let...   \n",
              "1          1  FLYNN: Hillary Clinton, Big Woman on Campus - ...   \n",
              "2          2                  Why the Truth Might Get You Fired   \n",
              "3          3  15 Civilians Killed In Single US Airstrike Hav...   \n",
              "4          4  Iranian woman jailed for fictional unpublished...   \n",
              "...      ...                                                ...   \n",
              "20795  20795  Rapper T.I.: Trump a ’Poster Child For White S...   \n",
              "20796  20796  N.F.L. Playoffs: Schedule, Matchups and Odds -...   \n",
              "20797  20797  Macy’s Is Said to Receive Takeover Approach by...   \n",
              "20798  20798  NATO, Russia To Hold Parallel Exercises In Bal...   \n",
              "20799  20799                          What Keeps the F-35 Alive   \n",
              "\n",
              "                                          author  \\\n",
              "0                                  Darrell Lucus   \n",
              "1                                Daniel J. Flynn   \n",
              "2                             Consortiumnews.com   \n",
              "3                                Jessica Purkiss   \n",
              "4                                 Howard Portnoy   \n",
              "...                                          ...   \n",
              "20795                              Jerome Hudson   \n",
              "20796                           Benjamin Hoffman   \n",
              "20797  Michael J. de la Merced and Rachel Abrams   \n",
              "20798                                Alex Ansary   \n",
              "20799                              David Swanson   \n",
              "\n",
              "                                                    text  label  \n",
              "0      House Dem Aide: We Didn’t Even See Comey’s Let...      1  \n",
              "1      Ever get the feeling your life circles the rou...      0  \n",
              "2      Why the Truth Might Get You Fired October 29, ...      1  \n",
              "3      Videos 15 Civilians Killed In Single US Airstr...      1  \n",
              "4      Print \\nAn Iranian woman has been sentenced to...      1  \n",
              "...                                                  ...    ...  \n",
              "20795  Rapper T. I. unloaded on black celebrities who...      0  \n",
              "20796  When the Green Bay Packers lost to the Washing...      0  \n",
              "20797  The Macy’s of today grew from the union of sev...      0  \n",
              "20798  NATO, Russia To Hold Parallel Exercises In Bal...      1  \n",
              "20799    David Swanson is an author, activist, journa...      1  \n",
              "\n",
              "[20800 rows x 5 columns]"
            ],
            "text/html": [
              "\n",
              "  <div id=\"df-236a0e53-f71e-427c-a213-688ccf74acc2\" class=\"colab-df-container\">\n",
              "    <div>\n",
              "<style scoped>\n",
              "    .dataframe tbody tr th:only-of-type {\n",
              "        vertical-align: middle;\n",
              "    }\n",
              "\n",
              "    .dataframe tbody tr th {\n",
              "        vertical-align: top;\n",
              "    }\n",
              "\n",
              "    .dataframe thead th {\n",
              "        text-align: right;\n",
              "    }\n",
              "</style>\n",
              "<table border=\"1\" class=\"dataframe\">\n",
              "  <thead>\n",
              "    <tr style=\"text-align: right;\">\n",
              "      <th></th>\n",
              "      <th>id</th>\n",
              "      <th>title</th>\n",
              "      <th>author</th>\n",
              "      <th>text</th>\n",
              "      <th>label</th>\n",
              "    </tr>\n",
              "  </thead>\n",
              "  <tbody>\n",
              "    <tr>\n",
              "      <th>0</th>\n",
              "      <td>0</td>\n",
              "      <td>House Dem Aide: We Didn’t Even See Comey’s Let...</td>\n",
              "      <td>Darrell Lucus</td>\n",
              "      <td>House Dem Aide: We Didn’t Even See Comey’s Let...</td>\n",
              "      <td>1</td>\n",
              "    </tr>\n",
              "    <tr>\n",
              "      <th>1</th>\n",
              "      <td>1</td>\n",
              "      <td>FLYNN: Hillary Clinton, Big Woman on Campus - ...</td>\n",
              "      <td>Daniel J. Flynn</td>\n",
              "      <td>Ever get the feeling your life circles the rou...</td>\n",
              "      <td>0</td>\n",
              "    </tr>\n",
              "    <tr>\n",
              "      <th>2</th>\n",
              "      <td>2</td>\n",
              "      <td>Why the Truth Might Get You Fired</td>\n",
              "      <td>Consortiumnews.com</td>\n",
              "      <td>Why the Truth Might Get You Fired October 29, ...</td>\n",
              "      <td>1</td>\n",
              "    </tr>\n",
              "    <tr>\n",
              "      <th>3</th>\n",
              "      <td>3</td>\n",
              "      <td>15 Civilians Killed In Single US Airstrike Hav...</td>\n",
              "      <td>Jessica Purkiss</td>\n",
              "      <td>Videos 15 Civilians Killed In Single US Airstr...</td>\n",
              "      <td>1</td>\n",
              "    </tr>\n",
              "    <tr>\n",
              "      <th>4</th>\n",
              "      <td>4</td>\n",
              "      <td>Iranian woman jailed for fictional unpublished...</td>\n",
              "      <td>Howard Portnoy</td>\n",
              "      <td>Print \\nAn Iranian woman has been sentenced to...</td>\n",
              "      <td>1</td>\n",
              "    </tr>\n",
              "    <tr>\n",
              "      <th>...</th>\n",
              "      <td>...</td>\n",
              "      <td>...</td>\n",
              "      <td>...</td>\n",
              "      <td>...</td>\n",
              "      <td>...</td>\n",
              "    </tr>\n",
              "    <tr>\n",
              "      <th>20795</th>\n",
              "      <td>20795</td>\n",
              "      <td>Rapper T.I.: Trump a ’Poster Child For White S...</td>\n",
              "      <td>Jerome Hudson</td>\n",
              "      <td>Rapper T. I. unloaded on black celebrities who...</td>\n",
              "      <td>0</td>\n",
              "    </tr>\n",
              "    <tr>\n",
              "      <th>20796</th>\n",
              "      <td>20796</td>\n",
              "      <td>N.F.L. Playoffs: Schedule, Matchups and Odds -...</td>\n",
              "      <td>Benjamin Hoffman</td>\n",
              "      <td>When the Green Bay Packers lost to the Washing...</td>\n",
              "      <td>0</td>\n",
              "    </tr>\n",
              "    <tr>\n",
              "      <th>20797</th>\n",
              "      <td>20797</td>\n",
              "      <td>Macy’s Is Said to Receive Takeover Approach by...</td>\n",
              "      <td>Michael J. de la Merced and Rachel Abrams</td>\n",
              "      <td>The Macy’s of today grew from the union of sev...</td>\n",
              "      <td>0</td>\n",
              "    </tr>\n",
              "    <tr>\n",
              "      <th>20798</th>\n",
              "      <td>20798</td>\n",
              "      <td>NATO, Russia To Hold Parallel Exercises In Bal...</td>\n",
              "      <td>Alex Ansary</td>\n",
              "      <td>NATO, Russia To Hold Parallel Exercises In Bal...</td>\n",
              "      <td>1</td>\n",
              "    </tr>\n",
              "    <tr>\n",
              "      <th>20799</th>\n",
              "      <td>20799</td>\n",
              "      <td>What Keeps the F-35 Alive</td>\n",
              "      <td>David Swanson</td>\n",
              "      <td>David Swanson is an author, activist, journa...</td>\n",
              "      <td>1</td>\n",
              "    </tr>\n",
              "  </tbody>\n",
              "</table>\n",
              "<p>20800 rows × 5 columns</p>\n",
              "</div>\n",
              "    <div class=\"colab-df-buttons\">\n",
              "\n",
              "  <div class=\"colab-df-container\">\n",
              "    <button class=\"colab-df-convert\" onclick=\"convertToInteractive('df-236a0e53-f71e-427c-a213-688ccf74acc2')\"\n",
              "            title=\"Convert this dataframe to an interactive table.\"\n",
              "            style=\"display:none;\">\n",
              "\n",
              "  <svg xmlns=\"http://www.w3.org/2000/svg\" height=\"24px\" viewBox=\"0 -960 960 960\">\n",
              "    <path d=\"M120-120v-720h720v720H120Zm60-500h600v-160H180v160Zm220 220h160v-160H400v160Zm0 220h160v-160H400v160ZM180-400h160v-160H180v160Zm440 0h160v-160H620v160ZM180-180h160v-160H180v160Zm440 0h160v-160H620v160Z\"/>\n",
              "  </svg>\n",
              "    </button>\n",
              "\n",
              "  <style>\n",
              "    .colab-df-container {\n",
              "      display:flex;\n",
              "      gap: 12px;\n",
              "    }\n",
              "\n",
              "    .colab-df-convert {\n",
              "      background-color: #E8F0FE;\n",
              "      border: none;\n",
              "      border-radius: 50%;\n",
              "      cursor: pointer;\n",
              "      display: none;\n",
              "      fill: #1967D2;\n",
              "      height: 32px;\n",
              "      padding: 0 0 0 0;\n",
              "      width: 32px;\n",
              "    }\n",
              "\n",
              "    .colab-df-convert:hover {\n",
              "      background-color: #E2EBFA;\n",
              "      box-shadow: 0px 1px 2px rgba(60, 64, 67, 0.3), 0px 1px 3px 1px rgba(60, 64, 67, 0.15);\n",
              "      fill: #174EA6;\n",
              "    }\n",
              "\n",
              "    .colab-df-buttons div {\n",
              "      margin-bottom: 4px;\n",
              "    }\n",
              "\n",
              "    [theme=dark] .colab-df-convert {\n",
              "      background-color: #3B4455;\n",
              "      fill: #D2E3FC;\n",
              "    }\n",
              "\n",
              "    [theme=dark] .colab-df-convert:hover {\n",
              "      background-color: #434B5C;\n",
              "      box-shadow: 0px 1px 3px 1px rgba(0, 0, 0, 0.15);\n",
              "      filter: drop-shadow(0px 1px 2px rgba(0, 0, 0, 0.3));\n",
              "      fill: #FFFFFF;\n",
              "    }\n",
              "  </style>\n",
              "\n",
              "    <script>\n",
              "      const buttonEl =\n",
              "        document.querySelector('#df-236a0e53-f71e-427c-a213-688ccf74acc2 button.colab-df-convert');\n",
              "      buttonEl.style.display =\n",
              "        google.colab.kernel.accessAllowed ? 'block' : 'none';\n",
              "\n",
              "      async function convertToInteractive(key) {\n",
              "        const element = document.querySelector('#df-236a0e53-f71e-427c-a213-688ccf74acc2');\n",
              "        const dataTable =\n",
              "          await google.colab.kernel.invokeFunction('convertToInteractive',\n",
              "                                                    [key], {});\n",
              "        if (!dataTable) return;\n",
              "\n",
              "        const docLinkHtml = 'Like what you see? Visit the ' +\n",
              "          '<a target=\"_blank\" href=https://colab.research.google.com/notebooks/data_table.ipynb>data table notebook</a>'\n",
              "          + ' to learn more about interactive tables.';\n",
              "        element.innerHTML = '';\n",
              "        dataTable['output_type'] = 'display_data';\n",
              "        await google.colab.output.renderOutput(dataTable, element);\n",
              "        const docLink = document.createElement('div');\n",
              "        docLink.innerHTML = docLinkHtml;\n",
              "        element.appendChild(docLink);\n",
              "      }\n",
              "    </script>\n",
              "  </div>\n",
              "\n",
              "\n",
              "    <div id=\"df-f0728e71-7eaa-42ca-95df-3243363798b1\">\n",
              "      <button class=\"colab-df-quickchart\" onclick=\"quickchart('df-f0728e71-7eaa-42ca-95df-3243363798b1')\"\n",
              "                title=\"Suggest charts\"\n",
              "                style=\"display:none;\">\n",
              "\n",
              "<svg xmlns=\"http://www.w3.org/2000/svg\" height=\"24px\"viewBox=\"0 0 24 24\"\n",
              "     width=\"24px\">\n",
              "    <g>\n",
              "        <path d=\"M19 3H5c-1.1 0-2 .9-2 2v14c0 1.1.9 2 2 2h14c1.1 0 2-.9 2-2V5c0-1.1-.9-2-2-2zM9 17H7v-7h2v7zm4 0h-2V7h2v10zm4 0h-2v-4h2v4z\"/>\n",
              "    </g>\n",
              "</svg>\n",
              "      </button>\n",
              "\n",
              "<style>\n",
              "  .colab-df-quickchart {\n",
              "      --bg-color: #E8F0FE;\n",
              "      --fill-color: #1967D2;\n",
              "      --hover-bg-color: #E2EBFA;\n",
              "      --hover-fill-color: #174EA6;\n",
              "      --disabled-fill-color: #AAA;\n",
              "      --disabled-bg-color: #DDD;\n",
              "  }\n",
              "\n",
              "  [theme=dark] .colab-df-quickchart {\n",
              "      --bg-color: #3B4455;\n",
              "      --fill-color: #D2E3FC;\n",
              "      --hover-bg-color: #434B5C;\n",
              "      --hover-fill-color: #FFFFFF;\n",
              "      --disabled-bg-color: #3B4455;\n",
              "      --disabled-fill-color: #666;\n",
              "  }\n",
              "\n",
              "  .colab-df-quickchart {\n",
              "    background-color: var(--bg-color);\n",
              "    border: none;\n",
              "    border-radius: 50%;\n",
              "    cursor: pointer;\n",
              "    display: none;\n",
              "    fill: var(--fill-color);\n",
              "    height: 32px;\n",
              "    padding: 0;\n",
              "    width: 32px;\n",
              "  }\n",
              "\n",
              "  .colab-df-quickchart:hover {\n",
              "    background-color: var(--hover-bg-color);\n",
              "    box-shadow: 0 1px 2px rgba(60, 64, 67, 0.3), 0 1px 3px 1px rgba(60, 64, 67, 0.15);\n",
              "    fill: var(--button-hover-fill-color);\n",
              "  }\n",
              "\n",
              "  .colab-df-quickchart-complete:disabled,\n",
              "  .colab-df-quickchart-complete:disabled:hover {\n",
              "    background-color: var(--disabled-bg-color);\n",
              "    fill: var(--disabled-fill-color);\n",
              "    box-shadow: none;\n",
              "  }\n",
              "\n",
              "  .colab-df-spinner {\n",
              "    border: 2px solid var(--fill-color);\n",
              "    border-color: transparent;\n",
              "    border-bottom-color: var(--fill-color);\n",
              "    animation:\n",
              "      spin 1s steps(1) infinite;\n",
              "  }\n",
              "\n",
              "  @keyframes spin {\n",
              "    0% {\n",
              "      border-color: transparent;\n",
              "      border-bottom-color: var(--fill-color);\n",
              "      border-left-color: var(--fill-color);\n",
              "    }\n",
              "    20% {\n",
              "      border-color: transparent;\n",
              "      border-left-color: var(--fill-color);\n",
              "      border-top-color: var(--fill-color);\n",
              "    }\n",
              "    30% {\n",
              "      border-color: transparent;\n",
              "      border-left-color: var(--fill-color);\n",
              "      border-top-color: var(--fill-color);\n",
              "      border-right-color: var(--fill-color);\n",
              "    }\n",
              "    40% {\n",
              "      border-color: transparent;\n",
              "      border-right-color: var(--fill-color);\n",
              "      border-top-color: var(--fill-color);\n",
              "    }\n",
              "    60% {\n",
              "      border-color: transparent;\n",
              "      border-right-color: var(--fill-color);\n",
              "    }\n",
              "    80% {\n",
              "      border-color: transparent;\n",
              "      border-right-color: var(--fill-color);\n",
              "      border-bottom-color: var(--fill-color);\n",
              "    }\n",
              "    90% {\n",
              "      border-color: transparent;\n",
              "      border-bottom-color: var(--fill-color);\n",
              "    }\n",
              "  }\n",
              "</style>\n",
              "\n",
              "      <script>\n",
              "        async function quickchart(key) {\n",
              "          const quickchartButtonEl =\n",
              "            document.querySelector('#' + key + ' button');\n",
              "          quickchartButtonEl.disabled = true;  // To prevent multiple clicks.\n",
              "          quickchartButtonEl.classList.add('colab-df-spinner');\n",
              "          try {\n",
              "            const charts = await google.colab.kernel.invokeFunction(\n",
              "                'suggestCharts', [key], {});\n",
              "          } catch (error) {\n",
              "            console.error('Error during call to suggestCharts:', error);\n",
              "          }\n",
              "          quickchartButtonEl.classList.remove('colab-df-spinner');\n",
              "          quickchartButtonEl.classList.add('colab-df-quickchart-complete');\n",
              "        }\n",
              "        (() => {\n",
              "          let quickchartButtonEl =\n",
              "            document.querySelector('#df-f0728e71-7eaa-42ca-95df-3243363798b1 button');\n",
              "          quickchartButtonEl.style.display =\n",
              "            google.colab.kernel.accessAllowed ? 'block' : 'none';\n",
              "        })();\n",
              "      </script>\n",
              "    </div>\n",
              "    </div>\n",
              "  </div>\n"
            ],
            "application/vnd.google.colaboratory.intrinsic+json": {
              "type": "dataframe",
              "variable_name": "df",
              "summary": "{\n  \"name\": \"df\",\n  \"rows\": 20800,\n  \"fields\": [\n    {\n      \"column\": \"id\",\n      \"properties\": {\n        \"dtype\": \"number\",\n        \"std\": 6004,\n        \"min\": 0,\n        \"max\": 20799,\n        \"num_unique_values\": 20800,\n        \"samples\": [\n          14649,\n          9231,\n          6473\n        ],\n        \"semantic_type\": \"\",\n        \"description\": \"\"\n      }\n    },\n    {\n      \"column\": \"title\",\n      \"properties\": {\n        \"dtype\": \"string\",\n        \"num_unique_values\": 19803,\n        \"samples\": [\n          \"Florida Republicans Voting for Hillary Clinton \\u00b7 Guardian Liberty Voice\",\n          \"\\u2018Weekend Warriors\\u2019 Show Survival Benefits - The New York Times\",\n          \"Part 6, Democratic Network Money: Commons Money that Works for Us, Instead of Us Working for It\"\n        ],\n        \"semantic_type\": \"\",\n        \"description\": \"\"\n      }\n    },\n    {\n      \"column\": \"author\",\n      \"properties\": {\n        \"dtype\": \"category\",\n        \"num_unique_values\": 4201,\n        \"samples\": [\n          \"AARGH63\",\n          \"Dave Kehr\",\n          \"Patrick Healy\"\n        ],\n        \"semantic_type\": \"\",\n        \"description\": \"\"\n      }\n    },\n    {\n      \"column\": \"text\",\n      \"properties\": {\n        \"dtype\": \"string\",\n        \"num_unique_values\": 20382,\n        \"samples\": [\n          \"WASHINGTON, D. C.  \\u2014   Edward \\u201cNed\\u201d Price, the Central Intelligence Agency (CIA) analyst who said he resigned last week because of President Donald Trump\\u2019s \\u201cdisturbing\\u201d actions and that his \\u201cdecision had nothing to do with politics,\\u201d donated thousands of dollars to Hillary Clinton\\u2019s failed 2016 presidential campaign. [\\u201cTo be clear, my decision had nothing to do with politics, and I would have been proud to again work under a Republican administration open to intelligence analysis,\\u201d Price wrote in an   he penned for the Washington Post Monday. He added, \\u201cAs intelligence professionals, we\\u2019re taught to tune out politics\\u201d and noted that \\u201cDespite working proudly for Republican and Democratic presidents, I reluctantly concluded that I cannot in good faith serve this administration as an intelligence professional. \\u201d  Price suggested his decision emanated from President Trump\\u2019s \\u201cdisturbing\\u201d actions. However, public records indicate Price has been listed as a registered Democrat in D. C. since 2008. Further, Federal Election Commission (FEC) records show that Price donated thousands of dollars to Hillary Clinton\\u2019s presidential campaign. These records indicate that on August 21, 2016, he made two donations to Clinton\\u2019s campaign. Price donated $2, 300 to the DNC\\u2019s Hillary Victory Fund and another $2, 700 to Hillary For America. According to NPR, \\u201cThe Hillary Victory Fund is a joint fundraising committee for Hillary for America, the Democratic National Committee and the Democratic committees of 32 states and Puerto Rico. \\u201d However, Price\\u2019s deep ties to the Democratic Party reach back over 15 years. According to his LinkedIn profile, Price campaigned for Dallas\\u2019s former Democratic Mayor Ron Kirk in his unsuccessful bid for the Senate in 2002. Kirk lost to   Attorney General, Sen. John Cornyn ( ). Then, in November 2013, Price contributed $250 to Massachusetts Democrat Seth Moulton in his bid for Congress, according to FEC records. In his   Price also attempted to echo rhetoric from the left alleging Trump\\u2019s chief strategist Stephen K. Bannon was \\u201ca media champion of white nationalism. \\u201d Those false smears have repeatedly been discredited by individuals from all over the political spectrum. Follow Adelle Nazarian on Twitter and Periscope @AdelleNaz\",\n          \"Celebrities trashed President Donald Trump on social media Tuesday after his Education and Justice Departments announced that they would no longer instruct schools to allow transgender students to use the bathrooms and locker rooms according to their preferred gender identities. [Last year, the Obama administration offered federal protection to transgender students arguing that it was unlawful for public schools to discriminate against them based on sex.  Following Wednesday\\u2019s announcement, talk show superstar Ellen DeGeneres tweeted, \\u201cJust seeing the news about removing laws protecting trans people. This isn\\u2019t about politics. It\\u2019s about human rights, and it\\u2019s not okay. \\u201d NSYNC band member Lance Bass reacted by calling the President an \\u201casshole. \\u201d Trump inauguration singer Jackie Evancho  \\u2014   whose sister is transgender  \\u2014   said she was \\u201cdisappointed\\u201d in the administration. The teenage classical singer also demanded to meet with Trump to discuss the policy change. Just seeing the news about removing laws protecting trans people. This isn\\u2019t about politics. It\\u2019s about human rights, and it\\u2019s not okay.  \\u2014   Ellen DeGeneres (@TheEllenShow) February 23, 2017,  Trans friend, if you are struggling tonight, please reach out to @TrevorProject and @Translifeline. Equality for all! #ISTANDWITHGAVIN pic. twitter.   \\u2014   KATY PERRY (@katyperry) February 23, 2017,  What an asshole! Trump administration withdraws federal protections on transgender bathrooms in schools @CNNPolitics https:  .   \\u2014   Lance Bass (@LanceBass) February 23, 2017,  This is disgusting. This is unacceptable.  I #StandWithGavin and every Trans person who deserve nothing less than protection and equality. https:  .   \\u2014   Brie Larson (@brielarson) February 23, 2017,  Ugly! Trump administration set to rescind protections for transgender students \\u27a1\\ufe0f by @aterkel https:  .  via @HuffPostPol,  \\u2014   Mark Ruffalo (@MarkRuffalo) February 22, 2017,  To the LGBTQ community, I\\u2019m sorry for the message that was sent today. They don\\u2019t speak for all of us. We love you.  \\u2014   Chris Evans (@ChrisEvans) February 23, 2017,  They can\\u2019t get enough of getting off on targeting the vulnerable. https:  .   \\u2014   Jeffrey Wright (@jfreewright) February 23, 2017,  Come on Trump, even God is celebrating Trans rights! pic. twitter.   \\u2014   Jay Duplass (@jayduplass) February 23, 2017,  We need to protect trans youth and stand up against this cruelty that hurts our kids. Support @Translifeline,  \\u2014   Ellen Page (@EllenPage) February 22, 2017,  If you support lifting fed protections of trans kids, you are supporting an act of cruelty towards kids who know enough cruelty already    \\u2014   Andy Richter (@AndyRichter) February 23, 2017,  And if you do a little reading, you\\u2019ll find out you\\u2019re not protecting anyone, anyway.    \\u2014   Andy Richter (@AndyRichter) February 23, 2017,  Deportations, the sick, and now trans kids the cruelty of this administration is boundless.  \\u2014   Timothy Simons (@timothycsimons) February 23, 2017,  Everyday I tell my kid to be inclusive at school. Whether it be with the quiet kid or the boys or whatever. inclusivity is peace. harmony.  \\u2014   christina applegate (@1capplegate) February 23, 2017,  trans kids lives now in danger after a very short sense of false security. THE BLOOD IS ON YOUR HANDS, TRUMP SUPPORTERS. WAKE THE FUCK UP,  \\u2014   michelle visage (@michellevisage) February 23, 2017,  \\u201d@POTUS\\u201d you sure you\\u2019re the best person to legislate the appropriate place for people to pee?  \\u2014   Danny Zuker (@DannyZuker) February 23, 2017,  Transgender kids are among the most vulnerable of all children. Schools and all of us have a moral obligation to protect them. https:  .   \\u2014   Mia Farrow (@MiaFarrow) February 23, 2017,  To my trans community, stay hopeful and stand united! #ProtectTransKids \\ud83d\\udc9c\\ud83d\\udc9c\\ud83d\\udc9c pic. twitter.   \\u2014   Jazz Jennings (@JazzJennings__) February 22, 2017,  Follow Jerome Hudson on Twitter @jeromeehudson\",\n          \"WASHINGTON  \\u2014   Senate Republicans are preparing to abolish the final vestige of power that the minority has to block Supreme Court nominations through a filibuster. Many senators in both parties now worry that the final and biggest domino  \\u2014   the power to filibuster legislation  \\u2014   will be next. In recent years, as partisanship has escalated, the Senate has required a   majority for almost any controversial legislation to overcome a filibuster. Gone, for the most part, are bipartisan quorums that used to pass large and complex laws with simple majorities. But as both parties have moved to do what was once unthinkable  \\u2014   eliminating the filibuster for judicial and cabinet nominees, known as the nuclear option  \\u2014   senators are now forced to consider if the final step could be in the offing, one that would fundamentally alter the character of the Senate and make it indistinguishable from the House in a crucial way. \\u201cBenjamin Franklin is somewhere turning over in his grave,\\u201d said Senator John McCain, Republican of Arizona, who has been a crucial player in the efforts to preserve the filibuster. \\u201cWhy have a bicameral system?\\u201d While Democrats and Republicans have seen injury to the minority in losing the right to block nominees, both parties also understand the profound and lasting effect that a party with power unchecked by the minority could have when it comes to lawmaking. (The rationale behind the filibuster was that a   threshold meant that a broader consensus would have to be reached for the most contentious legislation.) This is especially true now for Republicans in control over Washington who understand that the priority of Democrats tends to be increasing government programs that become very hard to end later, as demonstrated by the Republicans\\u2019 current inability to unravel the health care law, even with a majority in both chambers. Without the current filibuster rule on legislation, Democrats, should they dominate Washington again one day, could seek a large increase in the minimum wage, increased Social Security benefits, paid family leave or Medicare for all. And they would need only a simple majority to do it. Similarly, Republicans could pass large permanent tax cuts, oil drilling in the Arctic or a national   gun law. Such power is something that President Trump might see as quite delicious, and something that he may well push for if Republicans confirm Judge Neil M. Gorsuch for the Supreme Court without meaningful support from Democrats. \\u201cThere is not a single senator from the majority who thinks we ought to change the legislative filibuster,\\u201d said Senator Mitch McConnell, Republican of Kentucky and the majority leader. He is expected to move this week to remove the   threshold to proceed with a vote on Judge Gorsuch\\u2019s nomination. But, that, he insisted, would be the end of it. But many Democrats said they were skeptical of the claim. \\u201cI have seen the process deteriorate,\\u201d said Senator Benjamin L. Cardin, Democrat of Maryland. \\u201cSo do I believe Mitch McConnell would change the rules again? Yes. \\u201d Of course, both parties are complicit in getting the Senate to this stage and have changed their positions relative to their status. \\u201cBoth parties have been on both sides of this issue, depending on whether they were in the majority,\\u201d said Donald A. Ritchie, the former Senate historian. \\u201cBill Frist proposed it during the Bush years,\\u201d he said, referring to the former majority leader from Tennessee. \\u201cMitch McConnell supported it, and Harry Reid opposed it. When Harry Reid invoked the nuclear option, McConnell protested against it,\\u201d he said, \\u201cbut when McConnell became majority leader, he did not act to overturn the precedent, and has been making much use of it in this Congress. It\\u2019s hard to say what the   impact will be, but majority leaders since George Mitchell have been protesting the almost routine filibustering of nominations, so maybe the process needs some resolution. \\u201d Mr. Reid, the retired Nevada senator, moved to curtail the filibuster in 2013 when he removed the   threshold to advance confirmations of federal judicial nominees and   appointments after Republicans repeatedly blocked President Barack Obama\\u2019s nominees to the United States Court of Appeals for the District of Columbia Circuit. While Republicans were highly critical of Mr. Reid, the rule change has come in handy as they have moved to confirm a bevy of Mr. Trump\\u2019s cabinet nominees, some of whom would almost certainly have been blocked if forced to face a   procedural threshold. Many Democrats at the time also saw the danger of the move. \\u201cThere has been an abuse of the   rule,\\u201d Mr. Cardin said. \\u201cI thought it when Reid did it, but there is a question of who struck first. What Republicans did with the D. C. Circuit was wrong, that was an abuse, but there is blame on both sides. \\u201d Even so, experts on Senate rules say that a change on legislation is a bridge that neither party wants to cross. \\u201cI would never deny that it was a significant moment,\\u201d said Martin B. Gold, a former senior staff member and an author of books on Senate procedures. \\u201cAs was 2013. But I do not believe it has implications for legislation. I believe whatever trauma arises now will be enough. No one will want to take steps to decapitate the legislative filibuster. \\u201d But both sides have made the same claims about changes to rules concerning nominees, and many see the slope as getting more and more slippery. Without the voice of the minority, they worry, legislation would fall prey to the extreme instincts of the base of both parties, as is often the case in the   House. \\u201cThat would dramatically change the character of the politics of America,\\u201d said Byron Dorgan, a former Democratic senator from North Dakota. \\u201cThe filibuster is a set of brake pads of the speed of the passion of the moment. The Senate is the place where cooler heads prevail and you need a larger group of people to find common ground. It\\u2019s an unfortunate situation. \\u201d\"\n        ],\n        \"semantic_type\": \"\",\n        \"description\": \"\"\n      }\n    },\n    {\n      \"column\": \"label\",\n      \"properties\": {\n        \"dtype\": \"number\",\n        \"std\": 0,\n        \"min\": 0,\n        \"max\": 1,\n        \"num_unique_values\": 2,\n        \"samples\": [\n          0,\n          1\n        ],\n        \"semantic_type\": \"\",\n        \"description\": \"\"\n      }\n    }\n  ]\n}"
            }
          },
          "metadata": {},
          "execution_count": 4
        }
      ]
    },
    {
      "cell_type": "code",
      "source": [
        "df.isnull().sum()\n",
        "df = df.dropna()\n",
        "\n",
        "df.isnull().sum()"
      ],
      "metadata": {
        "colab": {
          "base_uri": "https://localhost:8080/",
          "height": 241
        },
        "id": "XyUcIJMPVxh9",
        "outputId": "15303f1e-1955-49f4-b53e-e434712d569c"
      },
      "execution_count": null,
      "outputs": [
        {
          "output_type": "execute_result",
          "data": {
            "text/plain": [
              "id        0\n",
              "title     0\n",
              "author    0\n",
              "text      0\n",
              "label     0\n",
              "dtype: int64"
            ],
            "text/html": [
              "<div>\n",
              "<style scoped>\n",
              "    .dataframe tbody tr th:only-of-type {\n",
              "        vertical-align: middle;\n",
              "    }\n",
              "\n",
              "    .dataframe tbody tr th {\n",
              "        vertical-align: top;\n",
              "    }\n",
              "\n",
              "    .dataframe thead th {\n",
              "        text-align: right;\n",
              "    }\n",
              "</style>\n",
              "<table border=\"1\" class=\"dataframe\">\n",
              "  <thead>\n",
              "    <tr style=\"text-align: right;\">\n",
              "      <th></th>\n",
              "      <th>0</th>\n",
              "    </tr>\n",
              "  </thead>\n",
              "  <tbody>\n",
              "    <tr>\n",
              "      <th>id</th>\n",
              "      <td>0</td>\n",
              "    </tr>\n",
              "    <tr>\n",
              "      <th>title</th>\n",
              "      <td>0</td>\n",
              "    </tr>\n",
              "    <tr>\n",
              "      <th>author</th>\n",
              "      <td>0</td>\n",
              "    </tr>\n",
              "    <tr>\n",
              "      <th>text</th>\n",
              "      <td>0</td>\n",
              "    </tr>\n",
              "    <tr>\n",
              "      <th>label</th>\n",
              "      <td>0</td>\n",
              "    </tr>\n",
              "  </tbody>\n",
              "</table>\n",
              "</div><br><label><b>dtype:</b> int64</label>"
            ]
          },
          "metadata": {},
          "execution_count": 5
        }
      ]
    },
    {
      "cell_type": "code",
      "source": [
        "df"
      ],
      "metadata": {
        "colab": {
          "base_uri": "https://localhost:8080/",
          "height": 424
        },
        "id": "n0-3t-HsV2La",
        "outputId": "2b65e778-e7dd-45e0-d47d-59f1a5ffb466"
      },
      "execution_count": null,
      "outputs": [
        {
          "output_type": "execute_result",
          "data": {
            "text/plain": [
              "          id                                              title  \\\n",
              "0          0  House Dem Aide: We Didn’t Even See Comey’s Let...   \n",
              "1          1  FLYNN: Hillary Clinton, Big Woman on Campus - ...   \n",
              "2          2                  Why the Truth Might Get You Fired   \n",
              "3          3  15 Civilians Killed In Single US Airstrike Hav...   \n",
              "4          4  Iranian woman jailed for fictional unpublished...   \n",
              "...      ...                                                ...   \n",
              "20795  20795  Rapper T.I.: Trump a ’Poster Child For White S...   \n",
              "20796  20796  N.F.L. Playoffs: Schedule, Matchups and Odds -...   \n",
              "20797  20797  Macy’s Is Said to Receive Takeover Approach by...   \n",
              "20798  20798  NATO, Russia To Hold Parallel Exercises In Bal...   \n",
              "20799  20799                          What Keeps the F-35 Alive   \n",
              "\n",
              "                                          author  \\\n",
              "0                                  Darrell Lucus   \n",
              "1                                Daniel J. Flynn   \n",
              "2                             Consortiumnews.com   \n",
              "3                                Jessica Purkiss   \n",
              "4                                 Howard Portnoy   \n",
              "...                                          ...   \n",
              "20795                              Jerome Hudson   \n",
              "20796                           Benjamin Hoffman   \n",
              "20797  Michael J. de la Merced and Rachel Abrams   \n",
              "20798                                Alex Ansary   \n",
              "20799                              David Swanson   \n",
              "\n",
              "                                                    text  label  \n",
              "0      House Dem Aide: We Didn’t Even See Comey’s Let...      1  \n",
              "1      Ever get the feeling your life circles the rou...      0  \n",
              "2      Why the Truth Might Get You Fired October 29, ...      1  \n",
              "3      Videos 15 Civilians Killed In Single US Airstr...      1  \n",
              "4      Print \\nAn Iranian woman has been sentenced to...      1  \n",
              "...                                                  ...    ...  \n",
              "20795  Rapper T. I. unloaded on black celebrities who...      0  \n",
              "20796  When the Green Bay Packers lost to the Washing...      0  \n",
              "20797  The Macy’s of today grew from the union of sev...      0  \n",
              "20798  NATO, Russia To Hold Parallel Exercises In Bal...      1  \n",
              "20799    David Swanson is an author, activist, journa...      1  \n",
              "\n",
              "[18281 rows x 5 columns]"
            ],
            "text/html": [
              "\n",
              "  <div id=\"df-684c2b47-be2b-4f6f-8aa4-7cbf8f68298a\" class=\"colab-df-container\">\n",
              "    <div>\n",
              "<style scoped>\n",
              "    .dataframe tbody tr th:only-of-type {\n",
              "        vertical-align: middle;\n",
              "    }\n",
              "\n",
              "    .dataframe tbody tr th {\n",
              "        vertical-align: top;\n",
              "    }\n",
              "\n",
              "    .dataframe thead th {\n",
              "        text-align: right;\n",
              "    }\n",
              "</style>\n",
              "<table border=\"1\" class=\"dataframe\">\n",
              "  <thead>\n",
              "    <tr style=\"text-align: right;\">\n",
              "      <th></th>\n",
              "      <th>id</th>\n",
              "      <th>title</th>\n",
              "      <th>author</th>\n",
              "      <th>text</th>\n",
              "      <th>label</th>\n",
              "    </tr>\n",
              "  </thead>\n",
              "  <tbody>\n",
              "    <tr>\n",
              "      <th>0</th>\n",
              "      <td>0</td>\n",
              "      <td>House Dem Aide: We Didn’t Even See Comey’s Let...</td>\n",
              "      <td>Darrell Lucus</td>\n",
              "      <td>House Dem Aide: We Didn’t Even See Comey’s Let...</td>\n",
              "      <td>1</td>\n",
              "    </tr>\n",
              "    <tr>\n",
              "      <th>1</th>\n",
              "      <td>1</td>\n",
              "      <td>FLYNN: Hillary Clinton, Big Woman on Campus - ...</td>\n",
              "      <td>Daniel J. Flynn</td>\n",
              "      <td>Ever get the feeling your life circles the rou...</td>\n",
              "      <td>0</td>\n",
              "    </tr>\n",
              "    <tr>\n",
              "      <th>2</th>\n",
              "      <td>2</td>\n",
              "      <td>Why the Truth Might Get You Fired</td>\n",
              "      <td>Consortiumnews.com</td>\n",
              "      <td>Why the Truth Might Get You Fired October 29, ...</td>\n",
              "      <td>1</td>\n",
              "    </tr>\n",
              "    <tr>\n",
              "      <th>3</th>\n",
              "      <td>3</td>\n",
              "      <td>15 Civilians Killed In Single US Airstrike Hav...</td>\n",
              "      <td>Jessica Purkiss</td>\n",
              "      <td>Videos 15 Civilians Killed In Single US Airstr...</td>\n",
              "      <td>1</td>\n",
              "    </tr>\n",
              "    <tr>\n",
              "      <th>4</th>\n",
              "      <td>4</td>\n",
              "      <td>Iranian woman jailed for fictional unpublished...</td>\n",
              "      <td>Howard Portnoy</td>\n",
              "      <td>Print \\nAn Iranian woman has been sentenced to...</td>\n",
              "      <td>1</td>\n",
              "    </tr>\n",
              "    <tr>\n",
              "      <th>...</th>\n",
              "      <td>...</td>\n",
              "      <td>...</td>\n",
              "      <td>...</td>\n",
              "      <td>...</td>\n",
              "      <td>...</td>\n",
              "    </tr>\n",
              "    <tr>\n",
              "      <th>20795</th>\n",
              "      <td>20795</td>\n",
              "      <td>Rapper T.I.: Trump a ’Poster Child For White S...</td>\n",
              "      <td>Jerome Hudson</td>\n",
              "      <td>Rapper T. I. unloaded on black celebrities who...</td>\n",
              "      <td>0</td>\n",
              "    </tr>\n",
              "    <tr>\n",
              "      <th>20796</th>\n",
              "      <td>20796</td>\n",
              "      <td>N.F.L. Playoffs: Schedule, Matchups and Odds -...</td>\n",
              "      <td>Benjamin Hoffman</td>\n",
              "      <td>When the Green Bay Packers lost to the Washing...</td>\n",
              "      <td>0</td>\n",
              "    </tr>\n",
              "    <tr>\n",
              "      <th>20797</th>\n",
              "      <td>20797</td>\n",
              "      <td>Macy’s Is Said to Receive Takeover Approach by...</td>\n",
              "      <td>Michael J. de la Merced and Rachel Abrams</td>\n",
              "      <td>The Macy’s of today grew from the union of sev...</td>\n",
              "      <td>0</td>\n",
              "    </tr>\n",
              "    <tr>\n",
              "      <th>20798</th>\n",
              "      <td>20798</td>\n",
              "      <td>NATO, Russia To Hold Parallel Exercises In Bal...</td>\n",
              "      <td>Alex Ansary</td>\n",
              "      <td>NATO, Russia To Hold Parallel Exercises In Bal...</td>\n",
              "      <td>1</td>\n",
              "    </tr>\n",
              "    <tr>\n",
              "      <th>20799</th>\n",
              "      <td>20799</td>\n",
              "      <td>What Keeps the F-35 Alive</td>\n",
              "      <td>David Swanson</td>\n",
              "      <td>David Swanson is an author, activist, journa...</td>\n",
              "      <td>1</td>\n",
              "    </tr>\n",
              "  </tbody>\n",
              "</table>\n",
              "<p>18281 rows × 5 columns</p>\n",
              "</div>\n",
              "    <div class=\"colab-df-buttons\">\n",
              "\n",
              "  <div class=\"colab-df-container\">\n",
              "    <button class=\"colab-df-convert\" onclick=\"convertToInteractive('df-684c2b47-be2b-4f6f-8aa4-7cbf8f68298a')\"\n",
              "            title=\"Convert this dataframe to an interactive table.\"\n",
              "            style=\"display:none;\">\n",
              "\n",
              "  <svg xmlns=\"http://www.w3.org/2000/svg\" height=\"24px\" viewBox=\"0 -960 960 960\">\n",
              "    <path d=\"M120-120v-720h720v720H120Zm60-500h600v-160H180v160Zm220 220h160v-160H400v160Zm0 220h160v-160H400v160ZM180-400h160v-160H180v160Zm440 0h160v-160H620v160ZM180-180h160v-160H180v160Zm440 0h160v-160H620v160Z\"/>\n",
              "  </svg>\n",
              "    </button>\n",
              "\n",
              "  <style>\n",
              "    .colab-df-container {\n",
              "      display:flex;\n",
              "      gap: 12px;\n",
              "    }\n",
              "\n",
              "    .colab-df-convert {\n",
              "      background-color: #E8F0FE;\n",
              "      border: none;\n",
              "      border-radius: 50%;\n",
              "      cursor: pointer;\n",
              "      display: none;\n",
              "      fill: #1967D2;\n",
              "      height: 32px;\n",
              "      padding: 0 0 0 0;\n",
              "      width: 32px;\n",
              "    }\n",
              "\n",
              "    .colab-df-convert:hover {\n",
              "      background-color: #E2EBFA;\n",
              "      box-shadow: 0px 1px 2px rgba(60, 64, 67, 0.3), 0px 1px 3px 1px rgba(60, 64, 67, 0.15);\n",
              "      fill: #174EA6;\n",
              "    }\n",
              "\n",
              "    .colab-df-buttons div {\n",
              "      margin-bottom: 4px;\n",
              "    }\n",
              "\n",
              "    [theme=dark] .colab-df-convert {\n",
              "      background-color: #3B4455;\n",
              "      fill: #D2E3FC;\n",
              "    }\n",
              "\n",
              "    [theme=dark] .colab-df-convert:hover {\n",
              "      background-color: #434B5C;\n",
              "      box-shadow: 0px 1px 3px 1px rgba(0, 0, 0, 0.15);\n",
              "      filter: drop-shadow(0px 1px 2px rgba(0, 0, 0, 0.3));\n",
              "      fill: #FFFFFF;\n",
              "    }\n",
              "  </style>\n",
              "\n",
              "    <script>\n",
              "      const buttonEl =\n",
              "        document.querySelector('#df-684c2b47-be2b-4f6f-8aa4-7cbf8f68298a button.colab-df-convert');\n",
              "      buttonEl.style.display =\n",
              "        google.colab.kernel.accessAllowed ? 'block' : 'none';\n",
              "\n",
              "      async function convertToInteractive(key) {\n",
              "        const element = document.querySelector('#df-684c2b47-be2b-4f6f-8aa4-7cbf8f68298a');\n",
              "        const dataTable =\n",
              "          await google.colab.kernel.invokeFunction('convertToInteractive',\n",
              "                                                    [key], {});\n",
              "        if (!dataTable) return;\n",
              "\n",
              "        const docLinkHtml = 'Like what you see? Visit the ' +\n",
              "          '<a target=\"_blank\" href=https://colab.research.google.com/notebooks/data_table.ipynb>data table notebook</a>'\n",
              "          + ' to learn more about interactive tables.';\n",
              "        element.innerHTML = '';\n",
              "        dataTable['output_type'] = 'display_data';\n",
              "        await google.colab.output.renderOutput(dataTable, element);\n",
              "        const docLink = document.createElement('div');\n",
              "        docLink.innerHTML = docLinkHtml;\n",
              "        element.appendChild(docLink);\n",
              "      }\n",
              "    </script>\n",
              "  </div>\n",
              "\n",
              "\n",
              "    <div id=\"df-eac702ef-974c-47b8-9b82-53cd2055665d\">\n",
              "      <button class=\"colab-df-quickchart\" onclick=\"quickchart('df-eac702ef-974c-47b8-9b82-53cd2055665d')\"\n",
              "                title=\"Suggest charts\"\n",
              "                style=\"display:none;\">\n",
              "\n",
              "<svg xmlns=\"http://www.w3.org/2000/svg\" height=\"24px\"viewBox=\"0 0 24 24\"\n",
              "     width=\"24px\">\n",
              "    <g>\n",
              "        <path d=\"M19 3H5c-1.1 0-2 .9-2 2v14c0 1.1.9 2 2 2h14c1.1 0 2-.9 2-2V5c0-1.1-.9-2-2-2zM9 17H7v-7h2v7zm4 0h-2V7h2v10zm4 0h-2v-4h2v4z\"/>\n",
              "    </g>\n",
              "</svg>\n",
              "      </button>\n",
              "\n",
              "<style>\n",
              "  .colab-df-quickchart {\n",
              "      --bg-color: #E8F0FE;\n",
              "      --fill-color: #1967D2;\n",
              "      --hover-bg-color: #E2EBFA;\n",
              "      --hover-fill-color: #174EA6;\n",
              "      --disabled-fill-color: #AAA;\n",
              "      --disabled-bg-color: #DDD;\n",
              "  }\n",
              "\n",
              "  [theme=dark] .colab-df-quickchart {\n",
              "      --bg-color: #3B4455;\n",
              "      --fill-color: #D2E3FC;\n",
              "      --hover-bg-color: #434B5C;\n",
              "      --hover-fill-color: #FFFFFF;\n",
              "      --disabled-bg-color: #3B4455;\n",
              "      --disabled-fill-color: #666;\n",
              "  }\n",
              "\n",
              "  .colab-df-quickchart {\n",
              "    background-color: var(--bg-color);\n",
              "    border: none;\n",
              "    border-radius: 50%;\n",
              "    cursor: pointer;\n",
              "    display: none;\n",
              "    fill: var(--fill-color);\n",
              "    height: 32px;\n",
              "    padding: 0;\n",
              "    width: 32px;\n",
              "  }\n",
              "\n",
              "  .colab-df-quickchart:hover {\n",
              "    background-color: var(--hover-bg-color);\n",
              "    box-shadow: 0 1px 2px rgba(60, 64, 67, 0.3), 0 1px 3px 1px rgba(60, 64, 67, 0.15);\n",
              "    fill: var(--button-hover-fill-color);\n",
              "  }\n",
              "\n",
              "  .colab-df-quickchart-complete:disabled,\n",
              "  .colab-df-quickchart-complete:disabled:hover {\n",
              "    background-color: var(--disabled-bg-color);\n",
              "    fill: var(--disabled-fill-color);\n",
              "    box-shadow: none;\n",
              "  }\n",
              "\n",
              "  .colab-df-spinner {\n",
              "    border: 2px solid var(--fill-color);\n",
              "    border-color: transparent;\n",
              "    border-bottom-color: var(--fill-color);\n",
              "    animation:\n",
              "      spin 1s steps(1) infinite;\n",
              "  }\n",
              "\n",
              "  @keyframes spin {\n",
              "    0% {\n",
              "      border-color: transparent;\n",
              "      border-bottom-color: var(--fill-color);\n",
              "      border-left-color: var(--fill-color);\n",
              "    }\n",
              "    20% {\n",
              "      border-color: transparent;\n",
              "      border-left-color: var(--fill-color);\n",
              "      border-top-color: var(--fill-color);\n",
              "    }\n",
              "    30% {\n",
              "      border-color: transparent;\n",
              "      border-left-color: var(--fill-color);\n",
              "      border-top-color: var(--fill-color);\n",
              "      border-right-color: var(--fill-color);\n",
              "    }\n",
              "    40% {\n",
              "      border-color: transparent;\n",
              "      border-right-color: var(--fill-color);\n",
              "      border-top-color: var(--fill-color);\n",
              "    }\n",
              "    60% {\n",
              "      border-color: transparent;\n",
              "      border-right-color: var(--fill-color);\n",
              "    }\n",
              "    80% {\n",
              "      border-color: transparent;\n",
              "      border-right-color: var(--fill-color);\n",
              "      border-bottom-color: var(--fill-color);\n",
              "    }\n",
              "    90% {\n",
              "      border-color: transparent;\n",
              "      border-bottom-color: var(--fill-color);\n",
              "    }\n",
              "  }\n",
              "</style>\n",
              "\n",
              "      <script>\n",
              "        async function quickchart(key) {\n",
              "          const quickchartButtonEl =\n",
              "            document.querySelector('#' + key + ' button');\n",
              "          quickchartButtonEl.disabled = true;  // To prevent multiple clicks.\n",
              "          quickchartButtonEl.classList.add('colab-df-spinner');\n",
              "          try {\n",
              "            const charts = await google.colab.kernel.invokeFunction(\n",
              "                'suggestCharts', [key], {});\n",
              "          } catch (error) {\n",
              "            console.error('Error during call to suggestCharts:', error);\n",
              "          }\n",
              "          quickchartButtonEl.classList.remove('colab-df-spinner');\n",
              "          quickchartButtonEl.classList.add('colab-df-quickchart-complete');\n",
              "        }\n",
              "        (() => {\n",
              "          let quickchartButtonEl =\n",
              "            document.querySelector('#df-eac702ef-974c-47b8-9b82-53cd2055665d button');\n",
              "          quickchartButtonEl.style.display =\n",
              "            google.colab.kernel.accessAllowed ? 'block' : 'none';\n",
              "        })();\n",
              "      </script>\n",
              "    </div>\n",
              "    </div>\n",
              "  </div>\n"
            ],
            "application/vnd.google.colaboratory.intrinsic+json": {
              "type": "dataframe",
              "variable_name": "df",
              "summary": "{\n  \"name\": \"df\",\n  \"rows\": 18281,\n  \"fields\": [\n    {\n      \"column\": \"id\",\n      \"properties\": {\n        \"dtype\": \"number\",\n        \"std\": 5998,\n        \"min\": 0,\n        \"max\": 20799,\n        \"num_unique_values\": 18281,\n        \"samples\": [\n          2473,\n          16293,\n          7076\n        ],\n        \"semantic_type\": \"\",\n        \"description\": \"\"\n      }\n    },\n    {\n      \"column\": \"title\",\n      \"properties\": {\n        \"dtype\": \"string\",\n        \"num_unique_values\": 17927,\n        \"samples\": [\n          \"What Booming Markets Are Telling Us About the Global Economy - The New York Times\",\n          \"ABC News Caught Staging Fake Crime Scene\",\n          \"Disrespecting the American Imperial Presidency\"\n        ],\n        \"semantic_type\": \"\",\n        \"description\": \"\"\n      }\n    },\n    {\n      \"column\": \"author\",\n      \"properties\": {\n        \"dtype\": \"category\",\n        \"num_unique_values\": 3838,\n        \"samples\": [\n          \"Ellen Brodsky\",\n          \"Helene Cooper and David E. Sanger\",\n          \"Richard Fausset, Alan Blinder and John Eligon\"\n        ],\n        \"semantic_type\": \"\",\n        \"description\": \"\"\n      }\n    },\n    {\n      \"column\": \"text\",\n      \"properties\": {\n        \"dtype\": \"string\",\n        \"num_unique_values\": 18013,\n        \"samples\": [\n          \"  American Woman In Bikini Desecrates French Catacombs For Her \\u201cFemale Indiana Jones\\u201d Brand American Woman In Bikini Desecrates French Catacombs For Her \\u201cFemale Indiana Jones\\u201d Brand \\nAndr\\u00e9 is a young European who left his decaying country in 2012 for greener pastures. He enjoys exploring subterranean places, reading about a host of interconnected topics, and yearns for Tradition. November 5, 2016 Girls \\nThe Paris catacombs are a place dear to my heart. Born in this very city, I had a front row seat to see it turn into a giant museum. Every wealthy asshole wanting his own piece of the \\u201ccity of lights,\\u201d and Paris being one of the most visited cities in the world , I could see year after year the streets taken over by luxury clothing shops and expensive venues. The middle and lower classes have been pushed aside by rising living costs so that the rich globalists, the bobos and a never-ending trail of tourists could stroll around. \\nYet, go twenty meters below the Haussmanian hurdle, and you will find something very different. \\nSouth of the Seine, the lands have been deeply dug to extract building stones. Most of the voids have been filled since, but more than a hundred kilometres of mine galleries are still there. Exploring the place is officially forbidden. Which is a good thing, as one can go there officiously, provided one knows how to enter and not get lost in the labyrinth, without bothering with swarms of tourists or wasting money in an overpriced bar. \\nOfficially prohibited, actually more or less self-managed by a loose community of cataphiles , the Catacombs are one of the most interesting places today in Paris. It allows for genuine explorations and friendly meetings while also teaching some masculine virtues to those who venture there seriously. \\nThe underground network being fragile and the officials not enjoying when too many visitors tread on their jurisdiction, the cataphiles have a complex relationship with exposing it. On the one hand, we like to show the place and share its atmosphere with passionate newcomers; on the other, we are afraid that too much exposition will attract too many visitors and stifle the officials\\u2019 relative toleration for unofficial activities. \\nWell, today, other cataphiles won\\u2019t chastise me for mentioning the topic in public, for this has been already made recently by an attention whore of international scope. Alison Teal, a Hawaiian 28 or 29 years old girl, made a show of herself down there and sent ludicrous photos to the Daily Mail . \\u201cSo, I\\u2019m here to teach you about protecting the planet, y\\u2019know\\u201d \\u201cI love bringing surfboards in places without waves. By the way, I\\u2019m the feminine Indiana Jones, especially with the help of a crew I\\u2019ll never give credit to. Follow me on Instagram and YT!\\u201d \\nHere we are not talking about attention whoring lightly. The Daily Mail photos already tell much: a blond girl in a pink bikini carries a pink surfboard in a narrow underground network where there is, by definition, no waves to surf at all, to take some photos of herself, herself, herself, and a bit of the catacombs, as they could be used as the setting of the latest of Alison\\u2019s Adventures\\u2122. I\\u2019m not joking. These \\u201cadventures\\u201d are literally Hitler a trademark. \\nSince she was at least 18, Teal seems to have taken advantage from the nomadic lifestyle of her parents to make photos, movies, and promote herself heavily along the way. With the help of her dad, a well-connected photographer and self-promoter who claims to master yoga, she got a bunch of awards and media promotion. Long-haired Alison was thus handed a niche that allows her to travel the world, take pictures of herself in various places, and claim to be concerned about the environment. \\nHer r\\u00e9sum\\u00e9 shows a massive ego associated to minor lies. \\u201cThe world was my school and playground\\u201d\\u2014I guess smaller places would be too small for her giant ego, and this may explain why she suffered from claustrophobia under Paris, as we are to see below. Between name-droppings, references to media awards and other big pictures of Alison, Teal, and Alison Teal, we learn she was styled \\u201cthe \\u2018Female Indiana Jones\\u2019 by Time Magazine (2015) and the \\u2018Oprah of Adventure\\u2019 by The Huffington Post (2016).\\u201d Really? \\nActually, Teal said to the HuffPo she aspired to be \\u201cthe Oprah of adventure\\u201d in 2014 before branding herself as \\u201cthe female Indiana Jones\\u201d to the Time a year later (2015, not 2016). Then she said on Twitter and on her r\\u00e9sum\\u00e9 how they had referred to her as such. Not a big lie, but a lie indeed. By the way, she also branded herself a \\u201cTarzan child\\u201d in the HuffPo interview. Would someone who really \\u201cgrew up in the wild\\u201d be so obsessed with linking herself to famous icons? Excerpt from the HuffPo article, 05/20/2014. The same articles adds she is a \\u201cself-described \\u2018Tarzan child.'\\u201d Excerpt from the Time article, 11/08/2015. Named by Time Magazine\\u2026 or self-styled? And now on her r\\u00e9sum\\u00e9. Not only does she lie by misattributing to famous media outlets self-characterizing and lavishly flattering labels, but she can\\u2019t even put the right years while referring to said media pieces. \\nSo, self-styled \\u201cfemale Indiana Jones,\\u201d no less, went through what seems to be a joint undertaking with the Daily Mail by descending into the Paris catacombs with the symbols of her Adventures\\u2122, namely a pink bikini and a surfboard. The English tabloid released the photos, video, and testimony of Indiana-Jones-In-A-Bikini-Surfing-The-Catacombs the 30 th of October. Days after, a bunch of French outlets copied the Mail content, often translating it verbatim . \\nWhat struck me first are the stunning inaccuracies the tabloid published. First, the Mail claims Teal went 150 meters below the ground, whereas the actual depth of the Catacombs goes between 10 and 30 meters depending on where you are in the network. Can\\u2019t Indiana Jane tell the difference between 30 and 150 meters? \\nSecond, she also claimed to have lacked oxygen and witnessed the water level suddenly rising. This is at best extremely unlikely. The water levels can change from month to month and even from week to week, but to my knowledge it never changes abruptly in seconds. As for the oxygen issue, I have witnessed some only two times: at a big party, when so many people were in the same room that there was not enough oxygen to light a cigarette, and from claustrophobic newcomers who could not stand the place. \\nEither she completely made up the sudden water change and oxygen issues in order to give her story a sensational aspect, or, more likely, got a panic attack due to claustrophobia, but preferred to twist it into a grandiose plot rather than acknowledging her own limitations. The Mail just ate that up and published without question. They did not ask any actual cataphile for sure. Had they done so, anyone with a decent experience of the catacombes could have told them what I just wrote above. \\nI also noticed from her quotes that she does not mention anyone from her crew, gives no credit to the men who opened the manhole cover, helped her go down the humid ladder, showed her the way, filmed her\\u2026 She would never have found the entrance if no one already in the know had accepted to be her guide. Neither could she lift manhole covers of more than a hundred kilograms with her thin arms\\u2014even the round butt she likes to display couldn\\u2019t do that. The first photo displayed by the Mail. Notice how she strategically displays (some of) her butt. \\nI could bet she did not have sex with any of the guys who enabled her display to happen. As Julius Evola hinted, she is likely the kind of woman to whom \\u201cthe possibilities of physical love are often not as interesting as the narcissistic cult of her body, or as being seen with as many or as few clothes as possible\\u201d (Evola, Revolt Against the Modern World , chap.20). \\nIn this respect, the only thing that makes Teal \\u201cspecial\\u201d compared to all other look-at-me twats is the adventurous label she tries to put on herself. Exploiting people and places to garner attention is definitely not special. Yet, a lot of comments have noticed this behind the weird mix of glamour and pseudo-adventure: some are offended that she treaded on bones, i.e. remnants of real past men, in a pink bikini. Doing so is not only a proof of bad taste and self-aggrandizing mania\\u2014it is also utterly disrespectful. \\nThis is indeed a blatant example of pussy pass . Imagine going to Hawaii, bringing a skateboard at a local cemetery and start skateboarding over the graves in a pink throng. What do you expect would happen? You would probably get beaten by locals, and if the media gave you attention at all, they would label you as a disturbed troll or something like that. All this, I think, would be fair. But when a self-important Oprah Jane of super-adventure does the same, the mainstream media reacts completely differently and celebrates her without the least hint of criticism. \\nThough she treading and surfing on bones of actual past people is not very respectful for sure, I think especially appalling the outlook Teal seems to carry on the place. The Catacombs are just another background for Alison Adventures\\u2122. Whole places, some loaded with historical and spiritual significance, are reduced to a set for the egotic show of another vapid character. The entire world was her school, or so she said, meaning that the world is turned into a mixture of Disneyland and Hollywood studio where her picture can stroll around. Some weeks ago, Alison Teal was busy showing herself near an erupting volcano. Notice another strategic part-display of her butt. \\nUsual newcomers to the Catacombs come there with a genuine interest in the place. They come to find out, sometimes drink, and have an actual adventure. They cannot help but feel some humility, perhaps even awe, when meeting with the bones of millions of nameless dead, most if not all of them having lived before the nineteenth century, and having been carried there so that Paris could grow. \\nThis is very different from using the place to play adventure, treading on bones in a rather inappropriate outfit, depending on a crew of real cataphiles but forgetting to give them the slightest credit, and showing utter carelessness to the historical and spiritual significance of the place, all so that Alison\\u2019s Ego Adventures\\u2122 Show continues. \\nAs you can see above, a lot of the comments are negative\\u2014especially those from cataphiles \\u2014and Teal has discreetly withdrawn the video of her trail from YouTube, putting it into private mode. \\nTeal\\u2019s circus has at least one merit: it symbolizes pretty well one of the worst aspects of the Westernization of the world. In the West, there is no wilderness, no sacredness, no magic. There are tons of potential places for tourism, but ultimately, all these places are losing their soul and turning into Disneylands. The Catacombs are worth it because they are definitely not so, and should never be. \\nFortunately, there can be some immanent justice. The wave of criticism under Teal\\u2019s disrespectful show is well deserved. More harshly, a young libtard who thought she could hitchhike through Middle East to prove Muslims peaceful got raped and killed by the \\u201cpeaceful\\u201d ones she theatrically claimed to care about. The event shew, or should have shown, that the world is not a giant kindergarten for Western \\u201cstrong and independent\\u201d narcissists. \\nIn a world of self-marketing and self-centred cunts, everyone is too busy caring about one\\u2019s image and about meaningless representations to truly care about a place or about family members. \\nTruly respectable women are not the ones we spot the most easily, and true cataphiles are often discreet as well. Your humble servant bathed there before Teal pretended to \\u201csurf\\u201d the place, but I would definitely not exhibit myself treading on bones in a pink thong\",\n          \"The Drought That Was Prophesied To Hit The Southern United States Is Now Here   15th, 2016 \\nA record-setting drought has gripped the southern United States, but most people have no idea that this drought is the fulfillment of a prophecy that was given four years ago. Back in 2008, John Paul Jackson released a DVD entitled \\u201c The Perfect Storm \\u201d in which he detailed many of the prophetic events that God showed him would soon come to America. In 2012, he released a video update to \\u201cThe Perfect Storm\\u201d that you can view on YouTube right here . In that update, he shared a list of future headlines that God had revealed to him over the years. Some of these headlines have already happened since that time, and now we are watching another be fulfilled right in front of our eyes. \\nSpecifically, I am referring to this headline: \\u201cRecord High Temps Accompany Record Drought Swept South\\u201d . \\nIn an article entitled \\u201c July\\u2019s Extreme Heat Breaks Records Across South \\u201c, weather.com detailed many of the high temperature records that have been broken in the South in recent months, but in this article I am going to focus on the crippling drought that is plaguing the region. \\nIn addition to the headline above, John Paul Jackson was shown several other headlines regarding drought and famine coming to America\\u2026 \\n\\u201cDrought Continues to Cause Prayer to Rise\\u201d \\n\\u201cDemand for Classic Seeds Skyrockets\\u201d \\n\\u201cFood Prices Lead Nation\\u2019s Escalating Inflation Woes\\u201d \\n\\u201cSysco and Kraft Consider Guards on Delivery Trucks as Food Nears 40% of the Family Budget\\u201d \\nAnd of course John Paul Jackson is not the only one that has been shown that these things are coming to this nation. \\nThe following is a very small portion of what Terry Bennett was shown in April 2011 \\u2026 \\nI was also warned, by the appearing of the black horse and its rider, about famine. The angel said, \\u201cThere will be a famine of food in your nation!\\u201d Not only this, but also the prices of food, particularly grains, will dramatically rise. We will see not only shortages and high prices, but I was shown significant starvation occurring during this time. Death followed this black horse! \\nDr. Patricia Green correctly prophesied the election victories of Barack Obama and Donald Trump in advance, and she was also shown that famine is going to hit America \\u2026 \\n\\u201cI\\u2019m instructing my children to begin to fill up their storehouses before the famine strikes just as I instructed Joseph while he was in Egypt.\\u201d \\nWith those prophecies in mind, it is extremely alarming to see what is happening all across the southern portion of the United States right now. According to the U.S. Drought Monitor , most of the southern half of the country is experiencing some level of drought at this moment\\u2026 \\nThe drought in California has been raging for quite some time, but what has surprised the experts is how dry it has been in the Southeast lately. The following is from an EcoWatch article entitled \\u201c Record-Breaking Drought and Wildfires Plague Southeast \\u201c\\u2026 \\nThe atmospheric spigots have been turned off across most of the U.S. over the last several weeks. According to the weekly U.S. Drought Monitor report from Nov. 10, more than 27 percent of the contiguous U.S. has been enveloped by at least moderate drought (categories D1 through D4). This is the largest percentage value in more than a year, since late October 2015 . \\nThe upward trend of the last month is worrisome given the outlook for the coming winter: Drier-than-average conditions are projected by the National Oceanic and Atmospheric Administration across the southern half of the contiguous U.S., a frequent outcome during La Ni\\u00f1a winters. \\nTo say that the drought in the Southeast is severe would be a tremendous understatement. At this point, some cities in the Southeast haven\\u2019t seen any measurable rain in about 50 days \\u2026 \\nNo measurable rain (at least .01 inches) has been tallied at Birmingham\\u2019s Shuttlesworth International Airport since Sept. 18, approaching a two-month-long dry streak, topping their previous longest dry streak on record \\u2013 52 straight days \\u2013 from fall 1924. \\nNine minutes of sprinkles Nov. 4 and another bout of sprinkles on Oct. 16 has been the entirety of Birmingham\\u2019s rainfall so far this fall. \\nAnniston, Alabama, and Rome, Georgia, have dry streaks now approaching 50 days. \\nAnd unfortunately, it appears that there is not going to be any substantial rain for the region any time soon \\u2026 \\nThere are no signs of any significant rainfall through the end of the month across the Southeast, AccuWeather Senior Meteorologist Henry Margusity said. \\nThe region needs days and weeks of a steady, soaking rain to completely eliminate the drought. \\n\\u201cThings will only get worse before they get better,\\u201d Margusity explained. \\nWhenever conditions are this dry, it is inevitable that there will be wildfires. \\nRight now more than 100 major wildfires are raging across the Southeast, and some of the worst are in the mountains of North Carolina. \\nAs you read this article, more than 1,000 firefighters are battling dozens of large wildfires in the North Carolina mountains. Governor Pat McCrory is referring to these fires as \\u201c California wildfires in North Carolina \\u201c, and he is not exaggerating one bit. \\nIf what we are witnessing is truly the beginning of the fulfillment of what God showed John Paul Jackson, Terry Bennett and Patricia Green, then we should expect drought conditions to continue to intensify in the months ahead. \\nAnd as you can see above, they are saying that things will eventually get so bad that famine will strike America. \\nMost of us couldn\\u2019t imagine something like that ever happening in this nation. But these are men and women of God with very long track records. As I noted above, Dr. Patricia Green correctly prophesied the election victories by Barack Obama and Donald Trump in advance, and John Paul Jackson has a track record of correctly fulfilled prophecies that is exceedingly long. \\nAs I end this article, I also want to remind everyone of what God showed Heidi Baker regarding the future of America not too long ago \\u2026 \\nI saw bread lines, soup kitchens, and I saw people wearing beautiful clothing. Their clothing was not worn out. Now in my nation when people are hungry you can tell. I mean they are in shredded rags. They don\\u2019t have shoes or they have flip flops. Most of them [have] no shoes. They are hungry and they know they are hungry. They come for food, not because they are beggars, but because they are hungry. \\nThese days a lot of Americans have become complacent and are feeling pretty good about things. \\nBut the events that are warned about in this article are coming, and I would encourage everyone to get prepared while they still can.\",\n          \"Breaking News Pieczenik \\u201cRogue FBI Agents and Wikileaks are Spearheading a Movement to Stop the Clintons from Stealing the White House\\u201d Pieczenik \\u201cRogue FBI Agents and Wikileaks are Spearheading a Movement to Stop the Clintons from Stealing the White House\\u201d Breaking News By Amy Moreno November 2, 2016 \\nThe world is teaming up to stop crooked Hillary from taking the White House. \\nFrom Wikileaks to rogue FBI agents, everyone is doing their part to stop the sinister Clinton Machine. \\nIt\\u2019s a joint effort from patriots hailing from every corner of the world. \\nWatch the video: Breaking:Twitter Friendly Version A soft coup has been launched by FBI to overthrow the Clinton\\u2019s hostile takeover of the White House. pic.twitter.com/MrPUlSO1OE \\n\\u2014 OakTown \\u2622MAGA O.G\\u2622 (@hrtablaze) November 2, 2016 This is a movement \\u2013 we are the political OUTSIDERS fighting against the FAILED GLOBAL ESTABLISHMENT! Join the resistance and help us fight to put America First! Amy Moreno is a Published Author , Pug Lover & Game of Thrones Nerd. You can follow her on Twitter here and Facebook here . Support the Trump Movement and help us fight Liberal Media Bias. Please LIKE and SHARE this story on Facebook or Twitter. \"\n        ],\n        \"semantic_type\": \"\",\n        \"description\": \"\"\n      }\n    },\n    {\n      \"column\": \"label\",\n      \"properties\": {\n        \"dtype\": \"number\",\n        \"std\": 0,\n        \"min\": 0,\n        \"max\": 1,\n        \"num_unique_values\": 2,\n        \"samples\": [\n          0,\n          1\n        ],\n        \"semantic_type\": \"\",\n        \"description\": \"\"\n      }\n    }\n  ]\n}"
            }
          },
          "metadata": {},
          "execution_count": 6
        }
      ]
    },
    {
      "cell_type": "code",
      "source": [
        "df.shape\n",
        "\n",
        "df['label'].value_counts()"
      ],
      "metadata": {
        "colab": {
          "base_uri": "https://localhost:8080/",
          "height": 178
        },
        "id": "1_0z9PKjV4Iz",
        "outputId": "75829498-1eb2-42d7-da12-188fc7cdff78"
      },
      "execution_count": null,
      "outputs": [
        {
          "output_type": "execute_result",
          "data": {
            "text/plain": [
              "label\n",
              "0    10361\n",
              "1     7920\n",
              "Name: count, dtype: int64"
            ],
            "text/html": [
              "<div>\n",
              "<style scoped>\n",
              "    .dataframe tbody tr th:only-of-type {\n",
              "        vertical-align: middle;\n",
              "    }\n",
              "\n",
              "    .dataframe tbody tr th {\n",
              "        vertical-align: top;\n",
              "    }\n",
              "\n",
              "    .dataframe thead th {\n",
              "        text-align: right;\n",
              "    }\n",
              "</style>\n",
              "<table border=\"1\" class=\"dataframe\">\n",
              "  <thead>\n",
              "    <tr style=\"text-align: right;\">\n",
              "      <th></th>\n",
              "      <th>count</th>\n",
              "    </tr>\n",
              "    <tr>\n",
              "      <th>label</th>\n",
              "      <th></th>\n",
              "    </tr>\n",
              "  </thead>\n",
              "  <tbody>\n",
              "    <tr>\n",
              "      <th>0</th>\n",
              "      <td>10361</td>\n",
              "    </tr>\n",
              "    <tr>\n",
              "      <th>1</th>\n",
              "      <td>7920</td>\n",
              "    </tr>\n",
              "  </tbody>\n",
              "</table>\n",
              "</div><br><label><b>dtype:</b> int64</label>"
            ]
          },
          "metadata": {},
          "execution_count": 7
        }
      ]
    },
    {
      "cell_type": "markdown",
      "source": [
        "## 2. Dataset Analysis"
      ],
      "metadata": {
        "id": "1lSVgZDJWdSX"
      }
    },
    {
      "cell_type": "code",
      "source": [
        "import matplotlib.pyplot as plt"
      ],
      "metadata": {
        "id": "DwUpZKRcWhqC"
      },
      "execution_count": null,
      "outputs": []
    },
    {
      "cell_type": "code",
      "source": [
        "label_counts = df['label'].value_counts(ascending=True)\n",
        "label_counts.plot.barh()\n",
        "plt.title(\"Frequency of Classes\")\n",
        "plt.show()"
      ],
      "metadata": {
        "colab": {
          "base_uri": "https://localhost:8080/",
          "height": 452
        },
        "id": "LOVLrUfWWko1",
        "outputId": "7cf22a80-5bf4-4bd6-b98e-7bb0a62301e2"
      },
      "execution_count": null,
      "outputs": [
        {
          "output_type": "display_data",
          "data": {
            "text/plain": [
              "<Figure size 640x480 with 1 Axes>"
            ],
            "image/png": "[encoded data removed]"
          },
          "metadata": {}
        }
      ]
    },
    {
      "cell_type": "code",
      "source": [
        "# 1.5 tokens per word on average\n",
        "df['title_tokens'] = df['title'].apply(lambda x: len(x.split())*1.5)\n",
        "df['text_tokens'] = df['text'].apply(lambda x: len(x.split())*1.5)\n",
        "\n",
        "\n",
        "fig, ax = plt.subplots(1,2, figsize=(15,5))\n",
        "\n",
        "ax[0].hist(df['title_tokens'], bins=50, color = 'skyblue')\n",
        "ax[0].set_title(\"Title Tokens\")\n",
        "\n",
        "ax[1].hist(df['text_tokens'], bins=50, color = 'orange')\n",
        "ax[1].set_title(\"Text Tokens\")\n",
        "\n",
        "plt.show()"
      ],
      "metadata": {
        "colab": {
          "base_uri": "https://localhost:8080/",
          "height": 468
        },
        "id": "74itQOEOWmT5",
        "outputId": "ac58bd53-aeec-4674-cf5d-759298a1a2c9"
      },
      "execution_count": null,
      "outputs": [
        {
          "output_type": "display_data",
          "data": {
            "text/plain": [
              "<Figure size 1500x500 with 2 Axes>"
            ],
            "image/png": "[encoded data removed]"
          },
          "metadata": {}
        }
      ]
    },
    {
      "cell_type": "markdown",
      "source": [
        "## 3. Data Loader & Train, Test, Val split"
      ],
      "metadata": {
        "id": "9gvu_NBjXVsp"
      }
    },
    {
      "cell_type": "code",
      "source": [
        "from sklearn.model_selection import train_test_split\n",
        "\n",
        "# 70% for training, 20% test, 10% validation\n",
        "train, test = train_test_split(df, test_size=0.3, stratify=df['label'])\n",
        "test, validation = train_test_split(test, test_size=1/3, stratify=test['label'])\n",
        "\n",
        "train.shape, test.shape, validation.shape, df.shape"
      ],
      "metadata": {
        "colab": {
          "base_uri": "https://localhost:8080/"
        },
        "id": "rNfb6VbqXcF7",
        "outputId": "602571ea-6f9f-4c32-b60b-61a7a155ac81"
      },
      "execution_count": null,
      "outputs": [
        {
          "output_type": "execute_result",
          "data": {
            "text/plain": [
              "((12796, 7), (3656, 7), (1829, 7), (18281, 7))"
            ]
          },
          "metadata": {},
          "execution_count": 11
        }
      ]
    },
    {
      "cell_type": "code",
      "source": [
        "from datasets import Dataset, DatasetDict\n",
        "\n",
        "dataset = DatasetDict(\n",
        "    {\n",
        "        \"train\": Dataset.from_pandas(train, preserve_index=False),\n",
        "        \"test\": Dataset.from_pandas(test, preserve_index=False),\n",
        "        \"validation\": Dataset.from_pandas(validation, preserve_index=False)\n",
        "    }\n",
        ")\n",
        "\n",
        "dataset"
      ],
      "metadata": {
        "colab": {
          "base_uri": "https://localhost:8080/"
        },
        "id": "ARtdxwX2XfZn",
        "outputId": "19d0e78c-1828-4d28-9ebc-9877dfd461c3"
      },
      "execution_count": null,
      "outputs": [
        {
          "output_type": "execute_result",
          "data": {
            "text/plain": [
              "DatasetDict({\n",
              "    train: Dataset({\n",
              "        features: ['id', 'title', 'author', 'text', 'label', 'title_tokens', 'text_tokens'],\n",
              "        num_rows: 12796\n",
              "    })\n",
              "    test: Dataset({\n",
              "        features: ['id', 'title', 'author', 'text', 'label', 'title_tokens', 'text_tokens'],\n",
              "        num_rows: 3656\n",
              "    })\n",
              "    validation: Dataset({\n",
              "        features: ['id', 'title', 'author', 'text', 'label', 'title_tokens', 'text_tokens'],\n",
              "        num_rows: 1829\n",
              "    })\n",
              "})"
            ]
          },
          "metadata": {},
          "execution_count": 12
        }
      ]
    },
    {
      "cell_type": "markdown",
      "source": [
        "## 4. Data Tokenization using Distilbert\n"
      ],
      "metadata": {
        "id": "qw2bmDsgYpts"
      }
    },
    {
      "cell_type": "code",
      "source": [
        "from transformers import AutoTokenizer\n",
        "\n",
        "text = \"We are trying to tokenize this text :)\"\n",
        "\n",
        "model_ckpt = \"distilbert-base-uncased\"\n",
        "distilbert_tokenizer = AutoTokenizer.from_pretrained(model_ckpt)\n",
        "distilbert_tokens = distilbert_tokenizer.tokenize(text)\n"
      ],
      "metadata": {
        "id": "LhiwoCh1X2d-"
      },
      "execution_count": null,
      "outputs": []
    },
    {
      "cell_type": "code",
      "source": [
        "distilbert_tokens"
      ],
      "metadata": {
        "colab": {
          "base_uri": "https://localhost:8080/"
        },
        "id": "sA5km3NeY8nY",
        "outputId": "faed9235-5385-48f3-b724-b6e50bfdd432"
      },
      "execution_count": null,
      "outputs": [
        {
          "output_type": "execute_result",
          "data": {
            "text/plain": [
              "['we', 'are', 'trying', 'to', 'token', '##ize', 'this', 'text', ':', ')']"
            ]
          },
          "metadata": {},
          "execution_count": 14
        }
      ]
    },
    {
      "cell_type": "code",
      "source": [
        "distilbert_tokenizer"
      ],
      "metadata": {
        "colab": {
          "base_uri": "https://localhost:8080/"
        },
        "id": "BwNWccY5ZIPI",
        "outputId": "10e5eef7-bcac-4630-c700-4f0f224b4d40"
      },
      "execution_count": null,
      "outputs": [
        {
          "output_type": "execute_result",
          "data": {
            "text/plain": [
              "DistilBertTokenizerFast(name_or_path='distilbert-base-uncased', vocab_size=30522, model_max_length=512, is_fast=True, padding_side='right', truncation_side='right', special_tokens={'unk_token': '[UNK]', 'sep_token': '[SEP]', 'pad_token': '[PAD]', 'cls_token': '[CLS]', 'mask_token': '[MASK]'}, clean_up_tokenization_spaces=False, added_tokens_decoder={\n",
              "\t0: AddedToken(\"[PAD]\", rstrip=False, lstrip=False, single_word=False, normalized=False, special=True),\n",
              "\t100: AddedToken(\"[UNK]\", rstrip=False, lstrip=False, single_word=False, normalized=False, special=True),\n",
              "\t101: AddedToken(\"[CLS]\", rstrip=False, lstrip=False, single_word=False, normalized=False, special=True),\n",
              "\t102: AddedToken(\"[SEP]\", rstrip=False, lstrip=False, single_word=False, normalized=False, special=True),\n",
              "\t103: AddedToken(\"[MASK]\", rstrip=False, lstrip=False, single_word=False, normalized=False, special=True),\n",
              "}\n",
              ")"
            ]
          },
          "metadata": {},
          "execution_count": 15
        }
      ]
    },
    {
      "cell_type": "code",
      "source": [
        "def tokenize(batch):\n",
        "    temp = distilbert_tokenizer(batch['title'], padding=True, truncation=True)\n",
        "    return temp\n",
        "\n",
        "print(tokenize(dataset['train'][:2]))"
      ],
      "metadata": {
        "colab": {
          "base_uri": "https://localhost:8080/"
        },
        "id": "aArZMco-ZLrm",
        "outputId": "9090a19c-c74f-4e84-a076-71749ccc9401"
      },
      "execution_count": null,
      "outputs": [
        {
          "output_type": "stream",
          "name": "stdout",
          "text": [
            "{'input_ids': [[101, 1520, 2292, 2023, 2450, 1521, 1055, 9191, 4861, 14113, 1996, 6397, 2545, 2125, 1521, 1011, 1996, 2047, 2259, 2335, 102], [101, 12316, 9681, 999, 18520, 3632, 2125, 1996, 15168, 1529, 8005, 1037, 4922, 4670, 1031, 2678, 1033, 102, 0, 0, 0]], 'attention_mask': [[1, 1, 1, 1, 1, 1, 1, 1, 1, 1, 1, 1, 1, 1, 1, 1, 1, 1, 1, 1, 1], [1, 1, 1, 1, 1, 1, 1, 1, 1, 1, 1, 1, 1, 1, 1, 1, 1, 1, 0, 0, 0]]}\n"
          ]
        }
      ]
    },
    {
      "cell_type": "code",
      "source": [
        "encoded_dataset = dataset.map(tokenize, batch_size=None, batched=True)"
      ],
      "metadata": {
        "id": "0JG4mRitZSad"
      },
      "execution_count": null,
      "outputs": []
    },
    {
      "cell_type": "code",
      "source": [
        "encoded_dataset"
      ],
      "metadata": {
        "colab": {
          "base_uri": "https://localhost:8080/"
        },
        "id": "b_bKLJJwZkKo",
        "outputId": "34165527-4eec-4c4d-bc2f-5b09616bcd31"
      },
      "execution_count": null,
      "outputs": [
        {
          "output_type": "execute_result",
          "data": {
            "text/plain": [
              "DatasetDict({\n",
              "    train: Dataset({\n",
              "        features: ['id', 'title', 'author', 'text', 'label', 'title_tokens', 'text_tokens', 'input_ids', 'attention_mask'],\n",
              "        num_rows: 12796\n",
              "    })\n",
              "    test: Dataset({\n",
              "        features: ['id', 'title', 'author', 'text', 'label', 'title_tokens', 'text_tokens', 'input_ids', 'attention_mask'],\n",
              "        num_rows: 3656\n",
              "    })\n",
              "    validation: Dataset({\n",
              "        features: ['id', 'title', 'author', 'text', 'label', 'title_tokens', 'text_tokens', 'input_ids', 'attention_mask'],\n",
              "        num_rows: 1829\n",
              "    })\n",
              "})"
            ]
          },
          "metadata": {},
          "execution_count": 18
        }
      ]
    },
    {
      "cell_type": "markdown",
      "source": [
        "## 5. Build the distilbert model"
      ],
      "metadata": {
        "id": "clw8BPeQZ3UB"
      }
    },
    {
      "cell_type": "code",
      "source": [
        "from transformers import AutoModelForSequenceClassification, AutoConfig\n",
        "import torch\n",
        "\n",
        "label2id = {\"Real\": 0, \"Fake\": 1}\n",
        "id2label = {0:\"Real\", 1:\"Fake\"}\n",
        "\n",
        "model_ckpt = \"distilbert-base-uncased\"\n",
        "# model_ckpt = \"google/mobilebert-uncased\"\n",
        "# model_ckpt = \"huawei-noah/TinyBERT_General_4L_312D\"\n",
        "\n",
        "\n",
        "num_labels = len(label2id)\n",
        "device = torch.device(\"cuda\" if torch.cuda.is_available() else \"cpu\")\n",
        "\n",
        "config = AutoConfig.from_pretrained(model_ckpt, label2id=label2id, id2label=id2label)\n",
        "model = AutoModelForSequenceClassification.from_pretrained(model_ckpt, config=config).to(device)\n"
      ],
      "metadata": {
        "id": "JLFiPOKtZruh"
      },
      "execution_count": null,
      "outputs": []
    },
    {
      "cell_type": "code",
      "source": [
        "model.config"
      ],
      "metadata": {
        "colab": {
          "base_uri": "https://localhost:8080/"
        },
        "id": "YZvgsYo6aA-0",
        "outputId": "7ef25baa-ff31-488b-ef22-25774437df89"
      },
      "execution_count": null,
      "outputs": [
        {
          "output_type": "execute_result",
          "data": {
            "text/plain": [
              "DistilBertConfig {\n",
              "  \"activation\": \"gelu\",\n",
              "  \"architectures\": [\n",
              "    \"DistilBertForMaskedLM\"\n",
              "  ],\n",
              "  \"attention_dropout\": 0.1,\n",
              "  \"dim\": 768,\n",
              "  \"dropout\": 0.1,\n",
              "  \"dtype\": \"float32\",\n",
              "  \"hidden_dim\": 3072,\n",
              "  \"id2label\": {\n",
              "    \"0\": \"Real\",\n",
              "    \"1\": \"Fake\"\n",
              "  },\n",
              "  \"initializer_range\": 0.02,\n",
              "  \"label2id\": {\n",
              "    \"Fake\": 1,\n",
              "    \"Real\": 0\n",
              "  },\n",
              "  \"max_position_embeddings\": 512,\n",
              "  \"model_type\": \"distilbert\",\n",
              "  \"n_heads\": 12,\n",
              "  \"n_layers\": 6,\n",
              "  \"pad_token_id\": 0,\n",
              "  \"qa_dropout\": 0.1,\n",
              "  \"seq_classif_dropout\": 0.2,\n",
              "  \"sinusoidal_pos_embds\": false,\n",
              "  \"tie_weights_\": true,\n",
              "  \"transformers_version\": \"4.56.0\",\n",
              "  \"vocab_size\": 30522\n",
              "}"
            ]
          },
          "metadata": {},
          "execution_count": 20
        }
      ]
    },
    {
      "cell_type": "markdown",
      "source": [
        "## 6. Fine-tune the model"
      ],
      "metadata": {
        "id": "Xo7DriOAaZwX"
      }
    },
    {
      "cell_type": "code",
      "source": [
        "# !pip install evaluate\n"
      ],
      "metadata": {
        "id": "PDdObjtsaqha"
      },
      "execution_count": null,
      "outputs": []
    },
    {
      "cell_type": "code",
      "source": [
        "import evaluate\n",
        "import numpy as np\n",
        "\n",
        "accuracy = evaluate.load(\"accuracy\")\n",
        "\n",
        "def compute_metrics_evaluate(eval_pred):\n",
        "    predictions, labels = eval_pred\n",
        "    predictions = np.argmax(predictions, axis=1)\n",
        "    return accuracy.compute(predictions=predictions, references=labels)"
      ],
      "metadata": {
        "id": "3lgwGNmqaPqv"
      },
      "execution_count": null,
      "outputs": []
    },
    {
      "cell_type": "code",
      "source": [
        "import os\n",
        "os.environ[\"WANDB_DISABLED\"] = \"true\""
      ],
      "metadata": {
        "id": "kd-9r7aNljdr"
      },
      "execution_count": null,
      "outputs": []
    },
    {
      "cell_type": "code",
      "source": [
        "from transformers import TrainingArguments\n",
        "\n",
        "batch_size = 32\n",
        "training_dir = \"train_dir\"\n",
        "\n",
        "\n",
        "\n",
        "training_args = TrainingArguments(\n",
        "    output_dir=training_dir,\n",
        "    overwrite_output_dir=True,\n",
        "    num_train_epochs=2,\n",
        "    learning_rate=2e-5,\n",
        "    per_device_train_batch_size=batch_size,\n",
        "    per_device_eval_batch_size=batch_size,\n",
        "    weight_decay=0.01,\n",
        "    eval_strategy=\"epoch\",\n",
        "    report_to=\"none\"\n",
        ")"
      ],
      "metadata": {
        "id": "GKq6pl4can9V"
      },
      "execution_count": null,
      "outputs": []
    },
    {
      "cell_type": "code",
      "source": [
        "from transformers import Trainer\n",
        "\n",
        "trainer = Trainer(\n",
        "    model=model,\n",
        "    compute_metrics=compute_metrics_evaluate,\n",
        "    train_dataset=encoded_dataset['train'],\n",
        "    eval_dataset=encoded_dataset['validation'],\n",
        "    tokenizer=distilbert_tokenizer\n",
        ")\n",
        "\n"
      ],
      "metadata": {
        "colab": {
          "base_uri": "https://localhost:8080/"
        },
        "id": "TA4odMn2a4QT",
        "outputId": "e51ee68c-2fc2-4c61-932a-4d8887892147"
      },
      "execution_count": null,
      "outputs": [
        {
          "output_type": "stream",
          "name": "stderr",
          "text": [
            "Using the `WANDB_DISABLED` environment variable is deprecated and will be removed in v5. Use the --report_to flag to control the integrations used for logging result (for instance --report_to none).\n"
          ]
        }
      ]
    },
    {
      "cell_type": "code",
      "source": [
        "trainer.train()"
      ],
      "metadata": {
        "colab": {
          "base_uri": "https://localhost:8080/",
          "height": 392
        },
        "id": "rvNoyEgea_Rg",
        "outputId": "a1bac7aa-60fe-4922-b088-0dd90f7416c4"
      },
      "execution_count": null,
      "outputs": [
        {
          "output_type": "display_data",
          "data": {
            "text/plain": [
              "<IPython.core.display.HTML object>"
            ],
            "text/html": [
              "\n",
              "    <div>\n",
              "      \n",
              "      <progress value='4800' max='4800' style='width:300px; height:20px; vertical-align: middle;'></progress>\n",
              "      [4800/4800 07:24, Epoch 3/3]\n",
              "    </div>\n",
              "    <table border=\"1\" class=\"dataframe\">\n",
              "  <thead>\n",
              " <tr style=\"text-align: left;\">\n",
              "      <th>Step</th>\n",
              "      <th>Training Loss</th>\n",
              "    </tr>\n",
              "  </thead>\n",
              "  <tbody>\n",
              "    <tr>\n",
              "      <td>500</td>\n",
              "      <td>0.102300</td>\n",
              "    </tr>\n",
              "    <tr>\n",
              "      <td>1000</td>\n",
              "      <td>0.084400</td>\n",
              "    </tr>\n",
              "    <tr>\n",
              "      <td>1500</td>\n",
              "      <td>0.139200</td>\n",
              "    </tr>\n",
              "    <tr>\n",
              "      <td>2000</td>\n",
              "      <td>0.075600</td>\n",
              "    </tr>\n",
              "    <tr>\n",
              "      <td>2500</td>\n",
              "      <td>0.038500</td>\n",
              "    </tr>\n",
              "    <tr>\n",
              "      <td>3000</td>\n",
              "      <td>0.045600</td>\n",
              "    </tr>\n",
              "    <tr>\n",
              "      <td>3500</td>\n",
              "      <td>0.018500</td>\n",
              "    </tr>\n",
              "    <tr>\n",
              "      <td>4000</td>\n",
              "      <td>0.014900</td>\n",
              "    </tr>\n",
              "    <tr>\n",
              "      <td>4500</td>\n",
              "      <td>0.009000</td>\n",
              "    </tr>\n",
              "  </tbody>\n",
              "</table><p>"
            ]
          },
          "metadata": {}
        },
        {
          "output_type": "execute_result",
          "data": {
            "text/plain": [
              "TrainOutput(global_step=4800, training_loss=0.055340080360571545, metrics={'train_runtime': 444.9269, 'train_samples_per_second': 86.279, 'train_steps_per_second': 10.788, 'total_flos': 979298361414144.0, 'train_loss': 0.055340080360571545, 'epoch': 3.0})"
            ]
          },
          "metadata": {},
          "execution_count": 31
        }
      ]
    },
    {
      "cell_type": "code",
      "source": [
        "trainer.save_model(\"/content/drive/MyDrive/llm_finetuning_transformers/Fake_News_Detection/distilbert-base-uncased-news-detection-model\")"
      ],
      "metadata": {
        "id": "z6X0GmTVbE3e"
      },
      "execution_count": null,
      "outputs": []
    },
    {
      "cell_type": "markdown",
      "source": [
        "## 7. Evaluate the model"
      ],
      "metadata": {
        "id": "bcL7DIw5rTv2"
      }
    },
    {
      "cell_type": "code",
      "source": [
        "preds_output = trainer.predict(encoded_dataset['test'])\n"
      ],
      "metadata": {
        "colab": {
          "base_uri": "https://localhost:8080/",
          "height": 17
        },
        "id": "F--MoaffrY5Q",
        "outputId": "b77d1d13-4b7a-48d1-df01-5cb25b90be20"
      },
      "execution_count": null,
      "outputs": [
        {
          "output_type": "display_data",
          "data": {
            "text/plain": [
              "<IPython.core.display.HTML object>"
            ],
            "text/html": []
          },
          "metadata": {}
        }
      ]
    },
    {
      "cell_type": "code",
      "source": [
        "preds_output.metrics"
      ],
      "metadata": {
        "colab": {
          "base_uri": "https://localhost:8080/"
        },
        "id": "pl91jSrDrZVo",
        "outputId": "b974c5b5-6c10-4645-c8f7-4ca83bcc7611"
      },
      "execution_count": null,
      "outputs": [
        {
          "output_type": "execute_result",
          "data": {
            "text/plain": [
              "{'test_loss': 0.24616140127182007,\n",
              " 'test_accuracy': 0.9614332603938731,\n",
              " 'test_runtime': 10.0724,\n",
              " 'test_samples_per_second': 362.971,\n",
              " 'test_steps_per_second': 45.371}"
            ]
          },
          "metadata": {},
          "execution_count": 34
        }
      ]
    },
    {
      "cell_type": "code",
      "source": [
        "y_pred = np.argmax(preds_output.predictions, axis=1)\n",
        "y_true = encoded_dataset['test'][:]['label']"
      ],
      "metadata": {
        "id": "4O2mY5bLrbuc"
      },
      "execution_count": null,
      "outputs": []
    },
    {
      "cell_type": "code",
      "source": [
        "from sklearn.metrics import classification_report\n",
        "print(classification_report(y_true, y_pred, target_names=list(label2id)))"
      ],
      "metadata": {
        "colab": {
          "base_uri": "https://localhost:8080/"
        },
        "id": "EbrgbJQDrdtp",
        "outputId": "ddd89e44-7b94-436f-f468-1cc03abb1ed1"
      },
      "execution_count": null,
      "outputs": [
        {
          "output_type": "stream",
          "name": "stdout",
          "text": [
            "              precision    recall  f1-score   support\n",
            "\n",
            "        Real       0.96      0.97      0.97      2072\n",
            "        Fake       0.96      0.95      0.96      1584\n",
            "\n",
            "    accuracy                           0.96      3656\n",
            "   macro avg       0.96      0.96      0.96      3656\n",
            "weighted avg       0.96      0.96      0.96      3656\n",
            "\n"
          ]
        }
      ]
    },
    {
      "cell_type": "markdown",
      "source": [
        "## 8. Benchmarking (Bert, DistilBert, MobileBert, TinyBert)"
      ],
      "metadata": {
        "id": "x0TaChjGrpS0"
      }
    },
    {
      "cell_type": "code",
      "source": [
        "from sklearn.metrics import accuracy_score, f1_score\n",
        "\n",
        "def compute_metrics(pred):\n",
        "    labels = pred.label_ids\n",
        "    preds = pred.predictions.argmax(-1)\n",
        "\n",
        "    f1 = f1_score(labels, preds, average=\"weighted\")\n",
        "    acc = accuracy_score(labels, preds)\n",
        "\n",
        "    return {\"accuracy\": acc, \"f1\": f1}"
      ],
      "metadata": {
        "id": "HCt76Iesrfos"
      },
      "execution_count": null,
      "outputs": []
    },
    {
      "cell_type": "code",
      "source": [
        "model_dict = {\n",
        "    \"bert-base\": \"bert-base-uncased\",\n",
        "    \"distilbert\": \"distilbert-base-uncased\",\n",
        "    \"mobilebert\": \"google/mobilebert-uncased\",\n",
        "    \"tinybert\": \"huawei-noah/TinyBERT_General_4L_312D\"\n",
        "}\n",
        "\n",
        "def train_model(model_name):\n",
        "    model_ckpt = model_dict[model_name]\n",
        "    tokenizer = AutoTokenizer.from_pretrained(model_ckpt)\n",
        "    config = AutoConfig.from_pretrained(model_ckpt, label2id=label2id, id2label=id2label)\n",
        "    model = AutoModelForSequenceClassification.from_pretrained(model_ckpt, config=config).to(device)\n",
        "\n",
        "    def local_tokenizer(batch):\n",
        "        temp = tokenizer(batch['title'], padding=True, truncation=True)\n",
        "        return temp\n",
        "\n",
        "    encoded_dataset = dataset.map(local_tokenizer, batched=True, batch_size=None)\n",
        "\n",
        "    trainer = Trainer(\n",
        "                model=model,\n",
        "                compute_metrics=compute_metrics,\n",
        "                train_dataset=encoded_dataset['train'],\n",
        "                eval_dataset=encoded_dataset['validation'],\n",
        "                tokenizer=tokenizer\n",
        "            )\n",
        "\n",
        "    trainer.train()\n",
        "\n",
        "    preds = trainer.predict(encoded_dataset['test'])\n",
        "\n",
        "    return preds.metrics\n",
        "\n",
        "\n",
        "import time\n",
        "model_performance = {}\n",
        "for model_name in model_dict:\n",
        "    print(\"\\n\\n\")\n",
        "    print(\"Training Model: \", model_name)\n",
        "\n",
        "    start = time.time()\n",
        "    result = train_model(model_name)\n",
        "    end = time.time()\n",
        "\n",
        "    model_performance[model_name] = {model_name:result, \"time taken\": end-start}"
      ],
      "metadata": {
        "id": "CaoKWFPjrz93"
      },
      "execution_count": null,
      "outputs": []
    },
    {
      "cell_type": "code",
      "source": [
        "model_performance"
      ],
      "metadata": {
        "colab": {
          "base_uri": "https://localhost:8080/"
        },
        "id": "QTzpwW1ir5WB",
        "outputId": "c867e322-b6d7-4dee-aa40-f9a41fde1825"
      },
      "execution_count": null,
      "outputs": [
        {
          "output_type": "execute_result",
          "data": {
            "text/plain": [
              "{'bert-base': {'bert-base': {'test_loss': 0.19665861129760742,\n",
              "   'test_accuracy': 0.9660831509846827,\n",
              "   'test_f1': 0.9660754900151514,\n",
              "   'test_runtime': 19.2405,\n",
              "   'test_samples_per_second': 190.016,\n",
              "   'test_steps_per_second': 23.752},\n",
              "  'time taken': 1000.4434232711792},\n",
              " 'distilbert': {'distilbert': {'test_loss': 0.20278647541999817,\n",
              "   'test_accuracy': 0.9636214442013129,\n",
              "   'test_f1': 0.9636146110702504,\n",
              "   'test_runtime': 9.6041,\n",
              "   'test_samples_per_second': 380.671,\n",
              "   'test_steps_per_second': 47.584},\n",
              "  'time taken': 528.9954595565796},\n",
              " 'mobilebert': {'mobilebert': {'test_loss': 0.19624720513820648,\n",
              "   'test_accuracy': 0.9636214442013129,\n",
              "   'test_f1': 0.9636033788195353,\n",
              "   'test_runtime': 18.9623,\n",
              "   'test_samples_per_second': 192.804,\n",
              "   'test_steps_per_second': 24.1},\n",
              "  'time taken': 847.3755266666412},\n",
              " 'tinybert': {'tinybert': {'test_loss': 0.2633061707019806,\n",
              "   'test_accuracy': 0.9480306345733042,\n",
              "   'test_f1': 0.9477151099418942,\n",
              "   'test_runtime': 2.8715,\n",
              "   'test_samples_per_second': 1273.221,\n",
              "   'test_steps_per_second': 159.153},\n",
              "  'time taken': 111.91999292373657}}"
            ]
          },
          "metadata": {},
          "execution_count": 39
        }
      ]
    },
    {
      "cell_type": "code",
      "source": [
        "# Extract into DataFrame\n",
        "rows = []\n",
        "for model, results in model_performance.items():\n",
        "    inner = results[model]\n",
        "    rows.append({\n",
        "        \"Model\": model,\n",
        "        \"Accuracy\": inner['test_accuracy'],\n",
        "        \"F1 Score\": inner['test_f1'],\n",
        "        \"Runtime (s)\": inner['test_runtime'],\n",
        "        \"Training Time (s)\": results['time taken']\n",
        "    })\n",
        "\n",
        "df = pd.DataFrame(rows)\n",
        "\n",
        "#3 bar charts side by side\n",
        "fig, axes = plt.subplots(1, 3, figsize=(18,5))\n",
        "\n",
        "# Accuracy vs F1 (bar)\n",
        "df.plot(x=\"Model\", y=[\"Accuracy\", \"F1 Score\"], kind=\"bar\", ax=axes[0])\n",
        "axes[0].set_title(\"Accuracy vs F1\")\n",
        "axes[0].set_ylabel(\"Score\")\n",
        "axes[0].grid(axis=\"y\", linestyle=\"--\", alpha=0.7)\n",
        "\n",
        "# Runtime\n",
        "df.plot(x=\"Model\", y=\"Runtime (s)\", kind=\"bar\", color=\"orange\", ax=axes[1], legend=False)\n",
        "axes[1].set_title(\"Runtime Comparison\")\n",
        "axes[1].set_ylabel(\"Runtime (s)\")\n",
        "axes[1].grid(axis=\"y\", linestyle=\"--\", alpha=0.7)\n",
        "\n",
        "# Training Time\n",
        "df.plot(x=\"Model\", y=\"Training Time (s)\", kind=\"bar\", color=\"green\", ax=axes[2], legend=False)\n",
        "axes[2].set_title(\"Training Time Comparison\")\n",
        "axes[2].set_ylabel(\"Training Time (s)\")\n",
        "axes[2].grid(axis=\"y\", linestyle=\"--\", alpha=0.7)\n",
        "\n",
        "plt.tight_layout()\n",
        "plt.show()\n",
        "\n",
        "\n"
      ],
      "metadata": {
        "colab": {
          "base_uri": "https://localhost:8080/",
          "height": 507
        },
        "id": "NPx3MQAUuUD2",
        "outputId": "0f9b6a86-11cc-4a09-d7cb-92c28d206d63"
      },
      "execution_count": null,
      "outputs": [
        {
          "output_type": "display_data",
          "data": {
            "text/plain": [
              "<Figure size 1800x500 with 3 Axes>"
            ],
            "image/png": "[encoded data removed]"
          },
          "metadata": {}
        }
      ]
    },
    {
      "cell_type": "code",
      "source": [
        "# Line chart with zoom for Accuracy & F1\n",
        "plt.figure(figsize=(8,5))\n",
        "plt.plot(df[\"Model\"], df[\"Accuracy\"], marker=\"o\", label=\"Accuracy\")\n",
        "plt.plot(df[\"Model\"], df[\"F1 Score\"], marker=\"o\", label=\"F1 Score\")\n",
        "\n",
        "plt.ylim(0.94, 0.97)\n",
        "plt.title(\"Accuracy vs F1 (Zoomed)\")\n",
        "plt.ylabel(\"Score\")\n",
        "plt.grid(True, linestyle=\"--\", alpha=0.7)\n",
        "plt.legend()\n",
        "plt.show()"
      ],
      "metadata": {
        "colab": {
          "base_uri": "https://localhost:8080/",
          "height": 468
        },
        "id": "9GntC2nSvR4c",
        "outputId": "436c753d-12c1-4a42-e2be-41f18f7af5b4"
      },
      "execution_count": null,
      "outputs": [
        {
          "output_type": "display_data",
          "data": {
            "text/plain": [
              "<Figure size 800x500 with 1 Axes>"
            ],
            "image/png": "[encoded data removed]"
          },
          "metadata": {}
        }
      ]
    },
    {
      "cell_type": "code",
      "source": [],
      "metadata": {
        "id": "_xYnDLj9wVdg"
      },
      "execution_count": null,
      "outputs": []
    }
  ]
}