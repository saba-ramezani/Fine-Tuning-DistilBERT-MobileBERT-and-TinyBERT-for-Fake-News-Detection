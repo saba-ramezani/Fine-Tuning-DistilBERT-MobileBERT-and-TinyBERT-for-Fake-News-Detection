{
 "cells": [
  {
   "cell_type": "markdown",
   "metadata": {
    "id": "ZKinhDB1VFHW"
   },
   "source": [
    "# Fine Tuning DistilBERT, MobileBERT and TinyBERT for Fake News Detection"
   ]
  },
  {
   "cell_type": "markdown",
   "metadata": {
    "id": "G21mYLIgV90V"
   },
   "source": [
    "## 1. Load the Fake news dataset"
   ]
  },
  {
   "cell_type": "code",
   "execution_count": null,
   "metadata": {
    "colab": {
     "base_uri": "https://localhost:8080/"
    },
    "id": "3Z1TFP6TU_Uu",
    "outputId": "829cbbc4-2b2a-44db-9214-e99cde9f89b2"
   },
   "outputs": [],
   "source": [
    "!pip install -U transformers\n",
    "!pip install -U accelerate\n",
    "!pip install -U datasets\n",
    "!pip install -U bertviz\n",
    "!pip install -U umap-learn\n",
    "!pip install seaborn --upgrade\n",
    "\n",
    "!pip install -U openpyxl"
   ]
  },
  {
   "cell_type": "code",
   "execution_count": null,
   "metadata": {
    "id": "P1S7G0svVqyN"
   },
   "outputs": [],
   "source": [
    "import warnings\n",
    "warnings.filterwarnings('ignore')"
   ]
  },
  {
   "cell_type": "code",
   "execution_count": null,
   "metadata": {
    "id": "SHoiSorFVsZ9"
   },
   "outputs": [],
   "source": [
    "import pandas as pd\n",
    "\n",
    "df = pd.read_excel(\"https://github.com/laxmimerit/All-CSV-ML-Data-Files-Download/raw/master/fake_news.xlsx\")"
   ]
  },
  {
   "cell_type": "code",
   "execution_count": null,
   "metadata": {
    "colab": {
     "base_uri": "https://localhost:8080/",
     "height": 424
    },
    "id": "F9sQKqucVt01",
    "outputId": "f9d2cbbe-83e3-4386-856f-09576b330f8f"
   },
   "outputs": [],
   "source": [
    "df"
   ]
  },
  {
   "cell_type": "code",
   "execution_count": null,
   "metadata": {
    "colab": {
     "base_uri": "https://localhost:8080/",
     "height": 241
    },
    "id": "XyUcIJMPVxh9",
    "outputId": "15303f1e-1955-49f4-b53e-e434712d569c"
   },
   "outputs": [],
   "source": [
    "df.isnull().sum()\n",
    "df = df.dropna()\n",
    "\n",
    "df.isnull().sum()"
   ]
  },
  {
   "cell_type": "code",
   "execution_count": null,
   "metadata": {
    "colab": {
     "base_uri": "https://localhost:8080/",
     "height": 424
    },
    "id": "n0-3t-HsV2La",
    "outputId": "2b65e778-e7dd-45e0-d47d-59f1a5ffb466"
   },
   "outputs": [],
   "source": [
    "df"
   ]
  },
  {
   "cell_type": "code",
   "execution_count": null,
   "metadata": {
    "colab": {
     "base_uri": "https://localhost:8080/",
     "height": 178
    },
    "id": "1_0z9PKjV4Iz",
    "outputId": "75829498-1eb2-42d7-da12-188fc7cdff78"
   },
   "outputs": [],
   "source": [
    "df.shape\n",
    "\n",
    "df['label'].value_counts()"
   ]
  },
  {
   "cell_type": "markdown",
   "metadata": {
    "id": "1lSVgZDJWdSX"
   },
   "source": [
    "## 2. Dataset Analysis"
   ]
  },
  {
   "cell_type": "code",
   "execution_count": null,
   "metadata": {
    "id": "DwUpZKRcWhqC"
   },
   "outputs": [],
   "source": [
    "import matplotlib.pyplot as plt"
   ]
  },
  {
   "cell_type": "code",
   "execution_count": null,
   "metadata": {
    "colab": {
     "base_uri": "https://localhost:8080/",
     "height": 452
    },
    "id": "LOVLrUfWWko1",
    "outputId": "7cf22a80-5bf4-4bd6-b98e-7bb0a62301e2"
   },
   "outputs": [],
   "source": [
    "label_counts = df['label'].value_counts(ascending=True)\n",
    "label_counts.plot.barh()\n",
    "plt.title(\"Frequency of Classes\")\n",
    "plt.show()"
   ]
  },
  {
   "cell_type": "code",
   "execution_count": null,
   "metadata": {
    "colab": {
     "base_uri": "https://localhost:8080/",
     "height": 468
    },
    "id": "74itQOEOWmT5",
    "outputId": "ac58bd53-aeec-4674-cf5d-759298a1a2c9"
   },
   "outputs": [],
   "source": [
    "# 1.5 tokens per word on average\n",
    "df['title_tokens'] = df['title'].apply(lambda x: len(x.split())*1.5)\n",
    "df['text_tokens'] = df['text'].apply(lambda x: len(x.split())*1.5)\n",
    "\n",
    "\n",
    "fig, ax = plt.subplots(1,2, figsize=(15,5))\n",
    "\n",
    "ax[0].hist(df['title_tokens'], bins=50, color = 'skyblue')\n",
    "ax[0].set_title(\"Title Tokens\")\n",
    "\n",
    "ax[1].hist(df['text_tokens'], bins=50, color = 'orange')\n",
    "ax[1].set_title(\"Text Tokens\")\n",
    "\n",
    "plt.show()"
   ]
  },
  {
   "cell_type": "markdown",
   "metadata": {
    "id": "9gvu_NBjXVsp"
   },
   "source": [
    "## 3. Data Loader & Train, Test, Val split"
   ]
  },
  {
   "cell_type": "code",
   "execution_count": null,
   "metadata": {
    "colab": {
     "base_uri": "https://localhost:8080/"
    },
    "id": "rNfb6VbqXcF7",
    "outputId": "602571ea-6f9f-4c32-b60b-61a7a155ac81"
   },
   "outputs": [],
   "source": [
    "from sklearn.model_selection import train_test_split\n",
    "\n",
    "# 70% for training, 20% test, 10% validation\n",
    "train, test = train_test_split(df, test_size=0.3, stratify=df['label'])\n",
    "test, validation = train_test_split(test, test_size=1/3, stratify=test['label'])\n",
    "\n",
    "train.shape, test.shape, validation.shape, df.shape"
   ]
  },
  {
   "cell_type": "code",
   "execution_count": null,
   "metadata": {
    "colab": {
     "base_uri": "https://localhost:8080/"
    },
    "id": "ARtdxwX2XfZn",
    "outputId": "19d0e78c-1828-4d28-9ebc-9877dfd461c3"
   },
   "outputs": [],
   "source": [
    "from datasets import Dataset, DatasetDict\n",
    "\n",
    "dataset = DatasetDict(\n",
    "    {\n",
    "        \"train\": Dataset.from_pandas(train, preserve_index=False),\n",
    "        \"test\": Dataset.from_pandas(test, preserve_index=False),\n",
    "        \"validation\": Dataset.from_pandas(validation, preserve_index=False)\n",
    "    }\n",
    ")\n",
    "\n",
    "dataset"
   ]
  },
  {
   "cell_type": "markdown",
   "metadata": {
    "id": "qw2bmDsgYpts"
   },
   "source": [
    "## 4. Data Tokenization using Distilbert\n"
   ]
  },
  {
   "cell_type": "code",
   "execution_count": null,
   "metadata": {
    "colab": {
     "base_uri": "https://localhost:8080/",
     "height": 145,
     "referenced_widgets": [
      "c51cb8f5694246cd910cc325be76ea6a",
      "e49835b47b914570b15b05d70fc7fd2c",
      "304195b9aec84d7c9c3fb185b38a0d8d",
      "23a7e35aac1b4236a6258561c8c751a8",
      "acffb30a5d2b454e9945bbe1d30ab11f",
      "0f9aac200f4c450e9f083ab80203c204",
      "3aeabd7f29a144749e1bb0783bd796bf",
      "3a5a1efea4874656b1d23b078a5ee4b3",
      "c6e0280f48dc4c0ea06f9188b2a98dda",
      "e713f52acc1f4e2e8839601d816d51f7",
      "e025db459c6443f0b0bc8da95f1375f2",
      "d8973754c41244a2bf7f9467638a8c5b",
      "20ca4c678e114f6c89282df8ce5e2cbb",
      "5896a94065cc4d5db3350e03a764e6e3",
      "ec19fe06b5c245c3b63769db5aa3aa84",
      "24a6785eaaf545898330056c2311bad9",
      "81322c3c4b81401abbf219774e77f987",
      "cdf813d51c12430fac780af27e30f81e",
      "b1b072018873420caaca536ed0304f41",
      "21c745aa069d4ca99750c5e297f00de9",
      "cd7f177eb08f466a9e23376256be36d9",
      "8670b877599043bcb8fafe5d6d486020",
      "d6024932ac7b4da798b53679bdc6dbdb",
      "a782ef36cff945df85fd26baabe946f6",
      "9d8dcdcf643b4f50b0603c3c389d37df",
      "b18c2946459346b38c7e8c062e70d465",
      "8ccd802987294921adde40e0f7cccea3",
      "c7d996228a1e40898491e4363869cfba",
      "45b9ad40f8764a0181515d3c77ff3984",
      "d3c88fdd256a486ab9f28c9295de33bf",
      "327c80f857844f4586eabf74c134f84a",
      "8100405adf0b4e2b849f9a1f333ebe16",
      "d17ed90347ff4875875a5d84a93eea10",
      "f424461443ce4f04a974549404c51835",
      "33bbb1533eca4cb9a7b92e0c46bde29f",
      "e1597b89dddd4ecd87c6964f00a02597",
      "986bc7209dd04e9faec8fabd12dbece7",
      "4342318407584cbca2bac1b97c9b26f7",
      "0f81c682e5b6469ea8fa6815de2f332f",
      "f7c305cc717a4bd1a41de508c8a41d79",
      "a40fc1a0973940149ebf8a7a05bae63a",
      "3999ad4bb0b1415c8a0143c5e4ddd6b7",
      "7d4bee0ea063473d9aa995ff04f03d46",
      "156e3db6e306495f947491b7f234455e"
     ]
    },
    "id": "LhiwoCh1X2d-",
    "outputId": "67d1d71b-e14c-4de2-b63e-d873daa53e15"
   },
   "outputs": [],
   "source": [
    "from transformers import AutoTokenizer\n",
    "\n",
    "text = \"We are trying to tokenize this text :)\"\n",
    "\n",
    "model_ckpt = \"distilbert-base-uncased\"\n",
    "distilbert_tokenizer = AutoTokenizer.from_pretrained(model_ckpt)\n",
    "distilbert_tokens = distilbert_tokenizer.tokenize(text)\n"
   ]
  },
  {
   "cell_type": "code",
   "execution_count": null,
   "metadata": {
    "colab": {
     "base_uri": "https://localhost:8080/"
    },
    "id": "sA5km3NeY8nY",
    "outputId": "faed9235-5385-48f3-b724-b6e50bfdd432"
   },
   "outputs": [],
   "source": [
    "distilbert_tokens"
   ]
  },
  {
   "cell_type": "code",
   "execution_count": null,
   "metadata": {
    "colab": {
     "base_uri": "https://localhost:8080/"
    },
    "id": "BwNWccY5ZIPI",
    "outputId": "10e5eef7-bcac-4630-c700-4f0f224b4d40"
   },
   "outputs": [],
   "source": [
    "distilbert_tokenizer"
   ]
  },
  {
   "cell_type": "code",
   "execution_count": null,
   "metadata": {
    "colab": {
     "base_uri": "https://localhost:8080/"
    },
    "id": "aArZMco-ZLrm",
    "outputId": "9090a19c-c74f-4e84-a076-71749ccc9401"
   },
   "outputs": [],
   "source": [
    "def tokenize(batch):\n",
    "    temp = distilbert_tokenizer(batch['title'], padding=True, truncation=True)\n",
    "    return temp\n",
    "\n",
    "print(tokenize(dataset['train'][:2]))"
   ]
  },
  {
   "cell_type": "code",
   "execution_count": null,
   "metadata": {
    "colab": {
     "base_uri": "https://localhost:8080/",
     "height": 113,
     "referenced_widgets": [
      "306c7f49f2cc4572b893434b4f0c6a9a",
      "301adaadebc44ab0ab513bbe35eeeb07",
      "17ef42580f5545f89ce9b04d6b7692d1",
      "5cc8631d09054d9bbb50291437a8af38",
      "3d6b466ccabd46dcaf58006e379fdf6a",
      "b9bc31bcbb7e4641be14b3b8550ddf33",
      "21760515906946bd9d10218f25110e58",
      "98a8847bf93941c895c56ce7e9e63913",
      "c3e0a013e5b54a348ecbe5ff96102648",
      "dded039082b94b17a024bb746c1e61c4",
      "dca9ae7d78e14d93b9fcba33c36fd391",
      "cf410548cc3f4d74aded8acc889e903a",
      "e3e3fd341a864c058b3fab3875a1b981",
      "82ef23f6de824a1c83604674dd018014",
      "cd0beb6dabd248ac953ca5d591e0af11",
      "259a5417ffda4e9bb4a9dc5bb05b4e41",
      "601bd335bf4d4cdf96585ae5511a7c80",
      "7065594b1f4b4231a920c2430ecc41a0",
      "021b63f23b8f49af891d31e47c1793be",
      "0e1df5dafdc64c1a83f972510d0733f0",
      "0bc78e7ad2df48d5af24fd1cef80bae0",
      "a5a06bf2f9224745afd9ca21af90e050",
      "bfcf2b0ec0754bd098e11621ab6451bf",
      "0690a7219a3f40a1b8c323d9f978870e",
      "b01e61a47d8d48f68bfff621a2672823",
      "d22282cab6db4f7295cd9fc0e098f62c",
      "187ace23a16f42878220e7c6a5a9126e",
      "e1d3e1d0538f480bbce3485cb75e9f3a",
      "919e4a131c5044e683b5fed943b2e082",
      "d3b2511d6fe045f893e08019804a4130",
      "52bbbf610dca4690b05ac9d04173178a",
      "1077867fc5774684831d389002551f85",
      "df1a820a64b04656877f7fdafd3067ab"
     ]
    },
    "id": "0JG4mRitZSad",
    "outputId": "7fa416f8-e234-4e0a-a31c-4790c3e63fc6"
   },
   "outputs": [],
   "source": [
    "encoded_dataset = dataset.map(tokenize, batch_size=None, batched=True)"
   ]
  },
  {
   "cell_type": "code",
   "execution_count": null,
   "metadata": {
    "colab": {
     "base_uri": "https://localhost:8080/"
    },
    "id": "b_bKLJJwZkKo",
    "outputId": "34165527-4eec-4c4d-bc2f-5b09616bcd31"
   },
   "outputs": [],
   "source": [
    "encoded_dataset"
   ]
  },
  {
   "cell_type": "markdown",
   "metadata": {
    "id": "clw8BPeQZ3UB"
   },
   "source": [
    "## 5. Build the distilbert model"
   ]
  },
  {
   "cell_type": "code",
   "execution_count": null,
   "metadata": {
    "colab": {
     "base_uri": "https://localhost:8080/",
     "height": 104,
     "referenced_widgets": [
      "7e4db78c85bd44a1b11f8693b0bb0fa2",
      "bf005a76a8ac4a6eb0f6cf2521bb7c23",
      "b990e971580742c1b2d84f4d31a7c1aa",
      "a0d34e5c145b4b75b78add31a17d0206",
      "140cd5cd7a10450c9429c887dcda06cc",
      "8a1bdd90ef75452f98c899ac5af17be5",
      "583b0c29c9ea457ca835e7844acb1838",
      "4bd7f72f08c244a489d0e51414b731f9",
      "309e1303db6e415fb46090b97be5e9b3",
      "797314caacce4a16948b3ae1bfbd561e",
      "2d819907186b4884880f671307d13ff1"
     ]
    },
    "id": "JLFiPOKtZruh",
    "outputId": "668e89e6-844b-4c1e-a696-ca498a9c93ef"
   },
   "outputs": [],
   "source": [
    "from transformers import AutoModelForSequenceClassification, AutoConfig\n",
    "import torch\n",
    "\n",
    "label2id = {\"Real\": 0, \"Fake\": 1}\n",
    "id2label = {0:\"Real\", 1:\"Fake\"}\n",
    "\n",
    "model_ckpt = \"distilbert-base-uncased\"\n",
    "# model_ckpt = \"google/mobilebert-uncased\"\n",
    "# model_ckpt = \"huawei-noah/TinyBERT_General_4L_312D\"\n",
    "\n",
    "\n",
    "num_labels = len(label2id)\n",
    "device = torch.device(\"cuda\" if torch.cuda.is_available() else \"cpu\")\n",
    "\n",
    "config = AutoConfig.from_pretrained(model_ckpt, label2id=label2id, id2label=id2label)\n",
    "model = AutoModelForSequenceClassification.from_pretrained(model_ckpt, config=config).to(device)\n"
   ]
  },
  {
   "cell_type": "code",
   "execution_count": null,
   "metadata": {
    "colab": {
     "base_uri": "https://localhost:8080/"
    },
    "id": "YZvgsYo6aA-0",
    "outputId": "7ef25baa-ff31-488b-ef22-25774437df89"
   },
   "outputs": [],
   "source": [
    "model.config"
   ]
  },
  {
   "cell_type": "markdown",
   "metadata": {
    "id": "Xo7DriOAaZwX"
   },
   "source": [
    "## 6. Fine-tune the model"
   ]
  },
  {
   "cell_type": "code",
   "execution_count": null,
   "metadata": {
    "colab": {
     "base_uri": "https://localhost:8080/"
    },
    "id": "PDdObjtsaqha",
    "outputId": "be148574-1160-44df-ec65-48c8c54dbce9"
   },
   "outputs": [],
   "source": [
    "!pip install evaluate\n"
   ]
  },
  {
   "cell_type": "code",
   "execution_count": null,
   "metadata": {
    "colab": {
     "base_uri": "https://localhost:8080/",
     "height": 49,
     "referenced_widgets": [
      "d2d2c4d886894ef7ba2fe9162301f9be",
      "082f62348bed4f8e9ade6a93399784a8",
      "773d7bae91734fc9aeb2043476ad8dd8",
      "791b024b1366432abed3c50cf2bf3127",
      "b5f9e54846434b8f8da509baec55c64a",
      "198c4e8e379c48b8ab835728de33db17",
      "1f865b0405ce44fa86046f5e64cebd50",
      "d14ac3a65f0749bf915c65d89377ca2b",
      "179d5542b04845b5b79f97b362e067fb",
      "aa144c349e6e4831a5c5eaddcf3d09dc",
      "16558b6b88ab490b885f845c384c8f7a"
     ]
    },
    "id": "3lgwGNmqaPqv",
    "outputId": "d85fa352-339c-4bd4-fbba-5412234db377"
   },
   "outputs": [],
   "source": [
    "import evaluate\n",
    "import numpy as np\n",
    "\n",
    "accuracy = evaluate.load(\"accuracy\")\n",
    "\n",
    "def compute_metrics_evaluate(eval_pred):\n",
    "    predictions, labels = eval_pred\n",
    "    predictions = np.argmax(predictions, axis=1)\n",
    "    return accuracy.compute(predictions=predictions, references=labels)"
   ]
  },
  {
   "cell_type": "code",
   "execution_count": null,
   "metadata": {
    "id": "kd-9r7aNljdr"
   },
   "outputs": [],
   "source": [
    "import os\n",
    "os.environ[\"WANDB_DISABLED\"] = \"true\""
   ]
  },
  {
   "cell_type": "code",
   "execution_count": null,
   "metadata": {
    "id": "GKq6pl4can9V"
   },
   "outputs": [],
   "source": [
    "from transformers import TrainingArguments\n",
    "\n",
    "batch_size = 32\n",
    "training_dir = \"train_dir\"\n",
    "\n",
    "\n",
    "\n",
    "training_args = TrainingArguments(\n",
    "    output_dir=training_dir,\n",
    "    overwrite_output_dir=True,\n",
    "    num_train_epochs=2,\n",
    "    learning_rate=2e-5,\n",
    "    per_device_train_batch_size=batch_size,\n",
    "    per_device_eval_batch_size=batch_size,\n",
    "    weight_decay=0.01,\n",
    "    eval_strategy=\"epoch\",   # ✅ correct argument name\n",
    "    report_to=\"none\"               # ✅ disables wandb/tensorboard\n",
    ")"
   ]
  },
  {
   "cell_type": "code",
   "execution_count": null,
   "metadata": {
    "colab": {
     "base_uri": "https://localhost:8080/"
    },
    "id": "TA4odMn2a4QT",
    "outputId": "e51ee68c-2fc2-4c61-932a-4d8887892147"
   },
   "outputs": [],
   "source": [
    "from transformers import Trainer\n",
    "\n",
    "trainer = Trainer(\n",
    "    model=model,\n",
    "    compute_metrics=compute_metrics_evaluate,\n",
    "    train_dataset=encoded_dataset['train'],\n",
    "    eval_dataset=encoded_dataset['validation'],\n",
    "    tokenizer=distilbert_tokenizer\n",
    ")\n",
    "\n"
   ]
  },
  {
   "cell_type": "code",
   "execution_count": null,
   "metadata": {
    "colab": {
     "base_uri": "https://localhost:8080/",
     "height": 392
    },
    "id": "rvNoyEgea_Rg",
    "outputId": "a1bac7aa-60fe-4922-b088-0dd90f7416c4"
   },
   "outputs": [],
   "source": [
    "trainer.train()"
   ]
  },
  {
   "cell_type": "code",
   "execution_count": null,
   "metadata": {
    "id": "z6X0GmTVbE3e"
   },
   "outputs": [],
   "source": [
    "trainer.save_model(\"/content/drive/MyDrive/llm_finetuning_transformers/Fake_News_Detection/distilbert-base-uncased-news-detection-model\")"
   ]
  },
  {
   "cell_type": "markdown",
   "metadata": {
    "id": "bcL7DIw5rTv2"
   },
   "source": [
    "## 7. Evaluate the model"
   ]
  },
  {
   "cell_type": "code",
   "execution_count": null,
   "metadata": {
    "colab": {
     "base_uri": "https://localhost:8080/",
     "height": 17
    },
    "id": "F--MoaffrY5Q",
    "outputId": "b77d1d13-4b7a-48d1-df01-5cb25b90be20"
   },
   "outputs": [],
   "source": [
    "preds_output = trainer.predict(encoded_dataset['test'])\n"
   ]
  },
  {
   "cell_type": "code",
   "execution_count": null,
   "metadata": {
    "colab": {
     "base_uri": "https://localhost:8080/"
    },
    "id": "pl91jSrDrZVo",
    "outputId": "b974c5b5-6c10-4645-c8f7-4ca83bcc7611"
   },
   "outputs": [],
   "source": [
    "preds_output.metrics"
   ]
  },
  {
   "cell_type": "code",
   "execution_count": null,
   "metadata": {
    "id": "4O2mY5bLrbuc"
   },
   "outputs": [],
   "source": [
    "y_pred = np.argmax(preds_output.predictions, axis=1)\n",
    "y_true = encoded_dataset['test'][:]['label']"
   ]
  },
  {
   "cell_type": "code",
   "execution_count": null,
   "metadata": {
    "colab": {
     "base_uri": "https://localhost:8080/"
    },
    "id": "EbrgbJQDrdtp",
    "outputId": "ddd89e44-7b94-436f-f468-1cc03abb1ed1"
   },
   "outputs": [],
   "source": [
    "from sklearn.metrics import classification_report\n",
    "print(classification_report(y_true, y_pred, target_names=list(label2id)))"
   ]
  },
  {
   "cell_type": "markdown",
   "metadata": {
    "id": "x0TaChjGrpS0"
   },
   "source": [
    "## 8. Benchmarking (Bert, DistilBert, MobileBert, TinyBert)"
   ]
  },
  {
   "cell_type": "code",
   "execution_count": null,
   "metadata": {
    "id": "HCt76Iesrfos"
   },
   "outputs": [],
   "source": [
    "from sklearn.metrics import accuracy_score, f1_score\n",
    "\n",
    "def compute_metrics(pred):\n",
    "    labels = pred.label_ids\n",
    "    preds = pred.predictions.argmax(-1)\n",
    "\n",
    "    f1 = f1_score(labels, preds, average=\"weighted\")\n",
    "    acc = accuracy_score(labels, preds)\n",
    "\n",
    "    return {\"accuracy\": acc, \"f1\": f1}"
   ]
  },
  {
   "cell_type": "code",
   "execution_count": null,
   "metadata": {
    "colab": {
     "base_uri": "https://localhost:8080/",
     "height": 1000,
     "referenced_widgets": [
      "a78ea807d62d46fc9728e9e6369bf919",
      "54651dc1cfe444b3868c25ebad6f9763",
      "d04a1bf306254d7cbb4f59bca02cedf0",
      "c2b1337fe312481d921ce57232aa05a4",
      "61266eaaa0994942861eee7a0a977ff5",
      "74213895b4aa41548881617ea187e9ab",
      "a559e01968e144e9a6f53ea9a82cbd59",
      "314b2b223ab2452da6fc0201753c57d0",
      "c092d0e0b804463086cf9dbd49c908c4",
      "4f24d56fa24743e1a7a968915b3c9092",
      "cc46adf533a84631a2a3c97db43f0a9d",
      "4a9f8bdc103f4e3a90c2259500d0b706",
      "a3a821ae5e364abe8e1431d51da459d2",
      "8b91c9d443ad4cb0bb6f4db139c7158e",
      "86a5cca64f1a4b86b5140e9c41589194",
      "86c9b387702f46f7a02a0e1891bedf4a",
      "20a153de73ca4c69b36d2eb98ed89134",
      "6c6c7975ded64874a7090fb1a0f4f6af",
      "5004a10f16064d1aa0743a6c809f9779",
      "aee792e375aa46958d71dec80247a2ae",
      "b5886553ccbd42dbbf5985e70d39079f",
      "1570c067a23442738ac368d656c61eb3",
      "c423a6a02f6649a1bcd2f5764fb8fdfe",
      "8dfe6963ff42419e885a01fb61b06f93",
      "6df8dfafce244ff78669107e19c501b0",
      "d476bf953f3e4ca1ad7a51081bea1d81",
      "d5bd5c84dd7b419c9a22b5586e7148f4",
      "c42719768d3440ef8fc6e231835b447c",
      "c3903d935cb545d7b5fe16c44ebaa8af",
      "ecec76923f6043fa84a7091162b4829d",
      "d9aaf999353a4cf4942173448dd4b47c",
      "26304c8150f648ecaff8df7932e64a1b",
      "36629e9a0e7f4fd1a8ff67c2a9cdd35e",
      "f567b5437d1749a0b42d9b3d62955ff3",
      "350e62e0be794efe98906e6eec309570",
      "564de23ffa0f48c0a1f633866a4078a6",
      "2f87960e28154e58a1c131c92c70e160",
      "e628b7220a5d4b4c9e74b042418b7b7c",
      "a4264a38791847628c7e8bd468e0ac28",
      "432265c39ceb4f31b7f91013439287bf",
      "961db61e8af44469be1f694916c1f1c3",
      "3cd339ec062f4b2e925226309cc56e62",
      "7d0d3a741158480eac54405213cd5b58",
      "6111a78109504e899dc8bfedd1cd5e9e",
      "8b9b0843a91e4f409b068a59db9fa850",
      "971dc2fbf87b478183ea9df3b9529c2e",
      "311880b613a94e8d8ca18114a0521f01",
      "2e238dbbe9604ac5be5d24a40513912b",
      "44d3964f226646ba8a96c60db558f630",
      "b3b04119acb743d6a54de3006aeb978e",
      "a8aaf2a237fe4dc98d0c42a49ae2e58d",
      "fb57a8b5f08d4d649e4969fc4e3aca43",
      "072bc3b222e14b7f9cf7bf1d62494fdb",
      "98acff8b9a674bc5ac7814048dc04de7",
      "df7e37b305ec485293836cb13d7f0b2d",
      "6e8c0c0cb71640c998738ffc784649e3",
      "7efd1bccb26f47c79da20ebf095418b7",
      "b5329edd78214443ab8a7c1984382d2e",
      "8a4cdca7ce5d49c8acfe2de10c1d3035",
      "9bd3d64a593f49beba8d92ad995967e2",
      "df7f12829cf942dcafd636d7be65ee1d",
      "dde56d662c0c489785b08fa196b577cc",
      "cd08cdf280f84c009e5be060e6b5b9bb",
      "edac33b9d89d4bec96416a2e339c2358",
      "ac279affcc754f63ac79e453707d59a1",
      "178710fa10af49d7a86e0453b21eb905",
      "f15ec85bbf3c4d7db461fcade959c900",
      "d3b00007702942bd8af59ddfe5c5c7be",
      "ff8a2e3227984f48965c5921b854216f",
      "3a4af2480282440ab1cceef5c6ddb0d2",
      "ae899ad5e4a74335b1122732f22dfe59",
      "d005272d8dd342a499da18d39ed28ff6",
      "59ee0ef2b93c495eb582fa9d2cb8a298",
      "36c38ac28c3e4c0793c6f6b02fe92fdc",
      "3427d537109c4e509cc616a5a627819e",
      "7da2ac24612046598ea84521f672ed39",
      "5a1c7f974760459ab22addf5a7979f21",
      "9835569f59e84c18b7b057584d2b17de",
      "adf3f6f239284f9a925de824949a76f0",
      "11b4a2a6f21744b3b556b2f495b3bff2",
      "0d74e334f45a4b37a6b5ecf46c6e8889",
      "21e3ccb8b265462f9f403d09c2f6ae1f",
      "eb36ab0eedaa4fc5a6840651766d3af9",
      "abf26fcf0b6d4f12804a29180f36f47b",
      "878693acd3034273966b6c5e285aa375",
      "7933e345d1644796be5e57a9d4374000",
      "2fe4a762c1dd4b2a9ca151e6f5e32d8a",
      "584616c462aa40c4a520ff8c2d3610cc",
      "a35a6a1b716b4f63a3c14c6fd8188794",
      "6be575da32e549678b474aec933b515f",
      "c47eed343ada434e9fdaa45750247a64",
      "53b49d4b5cd448298802f688168fb82e",
      "e404f259e7cf4f959a9284970b413c6d",
      "1c14d419d7524b1aa0612a2c3c509b8e",
      "d651bec2e12946488730d956ec6691dc",
      "238883f2a7ec404e9789172f669916a2",
      "5099331e91be4522be8c11331ee76aff",
      "cb92101844b645b98319d50f7beb35b5",
      "18b3356fffd74c6b9530ca5fdc702ddd",
      "26d304ada59c4916b77e511387cb94ee",
      "8cb85ea3416e40c1b9781161f51a3c2d",
      "90b220819ff04191946a48180e53634d",
      "b95005067d1046ce86a26ac488ff6524",
      "5b90e3f20c1c4bb98ad041f5f90a0135",
      "d04059b05f0b4eb286dd6e8c206d75b2",
      "5943a7f36ef9407a91c16f0eeafdbb7f",
      "9d5c7cf7b36b4c67999f50a978c69f7b",
      "24226d583bdd44f28287cfe327abbeeb",
      "1bcf02cca7e04b538847c4ee998d16b6",
      "9042f0353fa941bb93572e236a8d4763",
      "74951af9121b4a5298f14ba9e673d284",
      "05a05fcd99074f37ab36ce1709b56d0d",
      "6c24f8830df846d0b5162305d39d7e45",
      "747b43a6c6da4c78b9aa8faa1c599ffc",
      "ba927ae5fb8c4f1fb3d727138dfdc0f0",
      "0145c4af97e44e19a585ad59f8156c3e",
      "7c02982c31034208929bde328328db9c",
      "28c937f8099c40098d185a806b627ebd",
      "75fbe07103b943469ab299910bb8277b",
      "1c04290d16eb435b94c0d42e528b5cc1",
      "eedfad239c7649a5afc33598cf894c9c",
      "0be5a6843960457c8ac957f2d9fc153d",
      "f736e4caf87d48c5a2b4e75106946e7b",
      "d1a6a6cb2f1c414bbff90eaf0e2c7ae1",
      "fc69d962060a4b86a540650bdf98a51a",
      "5dd76f55c1e6419694374cc33627bd65",
      "9b21ef34efbe4a61ac3312ca78235f20",
      "941fff0640a04f20bbed77b1754a3064",
      "4cfe50857a614854a4e43d79b6a4352c",
      "f63d938dcf3c48a8bb6daf8bc635379b",
      "89c8a64db02f479fa0609b3e3f6caf66",
      "4ce66c596bf340d9856f6821145ae97d",
      "fac4a7e1511749a8bc063d4c42706b2e",
      "f40a960d09bf442dad50dd6501b31da6",
      "4bf7faceed5e48a39906dfc2819a5a7a",
      "a704d855c33644e1b463280208490f73",
      "c76531d6ca3344ce942dc4ee587e61f1",
      "8de7de61f0be4530b240e92f2f05d8f8",
      "7e83619fe69844a59b0d01f05479c042",
      "3984ad268ab14c7298726e447be7fae7",
      "97789c5906b744cca9f43b75fcec4d1a",
      "6d0ba7f8851a431693fb23731e89ac39",
      "6995477261594d13b8b9c461f0c0fd84",
      "fcf1513ade0b4fe1bfb7094ac2b3dd03",
      "12aa9722154b4645b0147c18e61f4f97",
      "48ee6a9c968e4ecc8d17d4ddf7ec8989",
      "6e5fcb3f09c2478aa03e2175aa2e38e2",
      "ef6c6d34b2bb4198bef51cfca803ee07",
      "fdc4a906a9b1488d80dcc9b7691a0e1b",
      "d5ed0824221f46b48ea3b9df7d391735",
      "339cc3886429406180d3b0c1a0035210",
      "87439fcc837c40f7b9dfba0680cff9d2",
      "c4440e3563d1412c99ccf450f9008966",
      "c647c79e2b634b69a4f3cd2c602bfff8",
      "02a08e759ceb4f78845df348ab6d8945",
      "2de3c9a8149442d19902cb70925c6d20",
      "dcdbe6bb7b114b7894fca7b71adf2102",
      "e89c52c0359d47409e911567d44805bb",
      "3a728d9707af492fb8a5c626edc7c7ed",
      "da485b40262048fe93090e67167b392c",
      "f6e13c63ada541bd9f6af4d04c68cf50",
      "5a90611f1c0b4b0da34b2d893592ef2b",
      "1c34428b40384c328f3c1f016bbcc012",
      "8f2bc63e420e41c5b83366c33b0b9401",
      "804d2cb18aec4310887025239d14b493",
      "08c0130fda6740a89717b32fd484231c",
      "3ca8f873ad58409d864093c02d7a6bd8",
      "64a508b6426846ddba8ce828bd4c2254",
      "8669b573d38b4bc49288766f86adfa1c",
      "2ae25ffe984d4df4afaa2dff51520814",
      "1c2f793297824e269591341f55479b5d",
      "b3572158822347e3985a0430466dcc19",
      "4fb9d15645134f64be9af73b81b04dd5",
      "7aa3fe3e173242c1b2ccd90d7b06cc19",
      "f7fce72039ec4fc0b4f88234d2955858",
      "27a115a98b6d4b428457dd6a25036513",
      "7190d1ee1bb44815904eb7b51409e10c",
      "dd6c54f6c9d84fcca2c2213d35ecc987",
      "3817c4ed135c45c7991b84f7d7a3c941",
      "069edc538f154424a995689962971928",
      "01facce06c4641f0b6c91ccbe31a5010",
      "4804649bf8c7452db8de146bd569dee4",
      "741df0452a234f23b6fad477d5bfc414",
      "58cae85375ea4e9cb6c9ac7378c416fc",
      "2fab8d96eebb455183c443574a47d954",
      "ae64d8b448a54df4a143d62c1b4a1a36",
      "7efb112403994c7ba8310fada46e71c2",
      "a2586694e3ac48189b010868eb6cff8c",
      "28d762d281164d41949596c26cc17c7a",
      "e95ff99d32de477097fa733138795c89",
      "f940c3c9204a498fa3a9c30fffa9e1dd",
      "b9abae029b6d462da3ce9cbfad3cb97e",
      "8e00d3c569984b9a91b589ce52ca3f75",
      "2bfe42c1f9a64647a4770655bd491ca2",
      "283602793b6c4606ab3d66840af14200",
      "46d30f4137144621b8119bafbb9e4e17",
      "171665242c274f4cbf97967dc4a89db4",
      "4305bc07bf384399a7fe2994e9935bae",
      "8ae78d00ab9543b197a1a3576efa4bb1",
      "b6f358f6b5ac4da8b62866f98843f426",
      "040886bd9fc0470ea58baaaba90e0005",
      "5ec417ea372e44688fe2732b7a2a261c",
      "6a5f501665e14865b47e90e3ed7c6f67",
      "109e0e55f64844d7b7f8b9c9359ed21b",
      "47a94ee9a295481b85cc0dddd160d137",
      "5a7bacb6373247a3a917dd78072a65ea",
      "217433a72a8d400b90623b6f55af36b0",
      "768faec7bc554b6d9499946895d44f96",
      "4984907caddc4c2d95d7ba297dca1f69",
      "1dc3808ab3b843bbbbc2f73ffb1bbe3d",
      "be2766cc47be4a73b7748561c0c63e30",
      "c886350511a647f19716cdd7be5bf413",
      "f23f85e8eddc4c3f872aa4fd5dfe640e",
      "56f6c710c7fd48cb81db0f36f084c9da",
      "37faae7b0bb242f79c206fd75731ebe9",
      "510e628740bd4e328d02689d0167da07",
      "0edfc91e9dcc46fdbdd516c8fa36ceeb",
      "1df8fbd13f2946eabdbcf7b099244027",
      "f98b93b51da348e8aef6949d42015026",
      "d9b8763360ea4352919e34cc03d75d4e",
      "e0e52e2945964398b4140f9299c2ea30",
      "cac75d34661c4449a6f4516f08a3644b",
      "8de2e078277f450e86d2eccdf93a695d",
      "b15fa38f4ab446349dc9f5be885f23e8",
      "1fea156753034cdd945a12033a0690a3",
      "42bd51ed1b694880b5c5d75e10596659",
      "d1ef591ac55b406799e4a8403ad523eb",
      "c51660cb431149a39f1dfdf0eb6839cb",
      "5d3f9869d9414a729c5f226b861d6205",
      "fc42215878d440a2aaae4145c452db28",
      "72ce440a6dd34dab9756d8a988574576",
      "e3fe5ed769314174aa2d38ba587e4771",
      "a82f63ce60b047308ab6e08b4392f9c4",
      "7d0708a8544c49ed93535fc2483d1234",
      "eb33297dfbab4fc59d19199f265699f0",
      "80a70d89132d4636994a0a601be9b37f",
      "542f8529459c4ef8a26baecedf1931b7",
      "ca8ececacd6545cfa185ac0974c693c0",
      "eb80591eaf034efca5d20818699136a3",
      "aa59678144b34ef1a3115a2a3f753546",
      "7afc7a9f055b493cbe280d58d342a963",
      "85f763d424c54c9ab90c3c6edfe818b5",
      "55664e9bb2cd49b38e48de372202fb37",
      "d7ad243f9d604816ad6375895d5f5e81",
      "bfb772cc64874391904e3c8e194ac3f0",
      "bb462ff36c334d0295adeae8f80eafb9",
      "ab67a435684e467c8048a353ac1443b4",
      "3e81e6a95e5445b7be7c3766435cddac",
      "ec4533f29f2a4809a02ba2d310f140e4",
      "68eb44695cad42dfa9f2bfe5215bf478",
      "145692aab3b8446596d40e72097852fc",
      "4edd26cf360b4815ba1db9171a9509aa",
      "e5031ad41d5e4dcdb5a9d71601e0ba80",
      "64762390956d4e7a8638548829f8970c",
      "11a40a3d552f45b7ab2313324f3fba53",
      "3ed75983adaa452286efc268033e6d72",
      "0c25040c928846f58c8250f904e12893",
      "2a0595bed9c34012aef8319c8f8b9edd",
      "e95739a4bf214542933dda7db58c1ed5",
      "3564ad56bd3b459981ecfa230dde3954",
      "aa2bf30b1222498c922ed3cadf761931",
      "c687cac5c78144a68cb23bf0e9382ab4",
      "a8fa6688dcc24f27baca5b8df0573ace",
      "ea50f82290674892b44bde33036356ba",
      "f2db5a89f2c04f6c9051263208e5db42",
      "c81ce6e7f1854ee291faa3cacfb8dca3",
      "bec6a7c9da8b410dbdb8b8b9c9b291d9",
      "e6e2311f037441aaa9c3590a9ea53fd8",
      "d2c6fe9825db4e4d8fb44871935f4f89",
      "d0fc535fa3f341619f70c6e884167659",
      "5547051fbf464878bd83d580e87fa6f9",
      "f623fcc7a62248d182f5d0d107ce3b06",
      "1bdd83c0f7df4832900455f5192dd4b7",
      "ce070042fde14c8fbb49b79cced516ea",
      "9c658576425b46a6bcba71b7ce1a8760",
      "0677e35c38cc40ecb1f7072407fcc7b7",
      "0c2b0b34df044718b26ce2770c179a05",
      "02b0c9687a7c4b21a5ee04dcf9fc844f",
      "d17d30adef094883ad4524169b0ce16f",
      "2c38e2940ec6425d92f2fca8abc8e392",
      "ecffa79d5c3c4a27b6b90d8aac5d7255",
      "fbe111b57cdd4f868044433621fd9131",
      "f861f34f3146457a892d8ce887dbf49a",
      "7cbf6d58a1d243b98adb86469549eed8",
      "7aae5aac0b87499ab331e7043d09f53b",
      "66366f71b7dc4c57a11f425b3f857398"
     ]
    },
    "id": "CaoKWFPjrz93",
    "outputId": "e08c7064-270a-4b4e-cb69-c84e14053daa"
   },
   "outputs": [],
   "source": [
    "model_dict = {\n",
    "    \"bert-base\": \"bert-base-uncased\",\n",
    "    \"distilbert\": \"distilbert-base-uncased\",\n",
    "    \"mobilebert\": \"google/mobilebert-uncased\",\n",
    "    \"tinybert\": \"huawei-noah/TinyBERT_General_4L_312D\"\n",
    "}\n",
    "\n",
    "def train_model(model_name):\n",
    "    model_ckpt = model_dict[model_name]\n",
    "    tokenizer = AutoTokenizer.from_pretrained(model_ckpt)\n",
    "    config = AutoConfig.from_pretrained(model_ckpt, label2id=label2id, id2label=id2label)\n",
    "    model = AutoModelForSequenceClassification.from_pretrained(model_ckpt, config=config).to(device)\n",
    "\n",
    "    def local_tokenizer(batch):\n",
    "        temp = tokenizer(batch['title'], padding=True, truncation=True)\n",
    "        return temp\n",
    "\n",
    "    encoded_dataset = dataset.map(local_tokenizer, batched=True, batch_size=None)\n",
    "\n",
    "    trainer = Trainer(\n",
    "                model=model,\n",
    "                compute_metrics=compute_metrics,\n",
    "                train_dataset=encoded_dataset['train'],\n",
    "                eval_dataset=encoded_dataset['validation'],\n",
    "                tokenizer=tokenizer\n",
    "            )\n",
    "\n",
    "    trainer.train()\n",
    "\n",
    "    preds = trainer.predict(encoded_dataset['test'])\n",
    "\n",
    "    return preds.metrics\n",
    "\n",
    "\n",
    "import time\n",
    "model_performance = {}\n",
    "for model_name in model_dict:\n",
    "    print(\"\\n\\n\")\n",
    "    print(\"Training Model: \", model_name)\n",
    "\n",
    "    start = time.time()\n",
    "    result = train_model(model_name)\n",
    "    end = time.time()\n",
    "\n",
    "    model_performance[model_name] = {model_name:result, \"time taken\": end-start}"
   ]
  },
  {
   "cell_type": "code",
   "execution_count": null,
   "metadata": {
    "colab": {
     "base_uri": "https://localhost:8080/"
    },
    "id": "QTzpwW1ir5WB",
    "outputId": "c867e322-b6d7-4dee-aa40-f9a41fde1825"
   },
   "outputs": [],
   "source": [
    "model_performance"
   ]
  },
  {
   "cell_type": "code",
   "execution_count": null,
   "metadata": {
    "colab": {
     "base_uri": "https://localhost:8080/",
     "height": 507
    },
    "id": "NPx3MQAUuUD2",
    "outputId": "0f9b6a86-11cc-4a09-d7cb-92c28d206d63"
   },
   "outputs": [],
   "source": [
    "# Extract into DataFrame\n",
    "rows = []\n",
    "for model, results in model_performance.items():\n",
    "    inner = results[model]\n",
    "    rows.append({\n",
    "        \"Model\": model,\n",
    "        \"Accuracy\": inner['test_accuracy'],\n",
    "        \"F1 Score\": inner['test_f1'],\n",
    "        \"Runtime (s)\": inner['test_runtime'],\n",
    "        \"Training Time (s)\": results['time taken']\n",
    "    })\n",
    "\n",
    "df = pd.DataFrame(rows)\n",
    "\n",
    "#3 bar charts side by side\n",
    "fig, axes = plt.subplots(1, 3, figsize=(18,5))\n",
    "\n",
    "# Accuracy vs F1 (bar)\n",
    "df.plot(x=\"Model\", y=[\"Accuracy\", \"F1 Score\"], kind=\"bar\", ax=axes[0])\n",
    "axes[0].set_title(\"Accuracy vs F1\")\n",
    "axes[0].set_ylabel(\"Score\")\n",
    "axes[0].grid(axis=\"y\", linestyle=\"--\", alpha=0.7)\n",
    "\n",
    "# Runtime\n",
    "df.plot(x=\"Model\", y=\"Runtime (s)\", kind=\"bar\", color=\"orange\", ax=axes[1], legend=False)\n",
    "axes[1].set_title(\"Runtime Comparison\")\n",
    "axes[1].set_ylabel(\"Runtime (s)\")\n",
    "axes[1].grid(axis=\"y\", linestyle=\"--\", alpha=0.7)\n",
    "\n",
    "# Training Time\n",
    "df.plot(x=\"Model\", y=\"Training Time (s)\", kind=\"bar\", color=\"green\", ax=axes[2], legend=False)\n",
    "axes[2].set_title(\"Training Time Comparison\")\n",
    "axes[2].set_ylabel(\"Training Time (s)\")\n",
    "axes[2].grid(axis=\"y\", linestyle=\"--\", alpha=0.7)\n",
    "\n",
    "plt.tight_layout()\n",
    "plt.show()\n",
    "\n",
    "\n"
   ]
  },
  {
   "cell_type": "code",
   "execution_count": null,
   "metadata": {
    "colab": {
     "base_uri": "https://localhost:8080/",
     "height": 468
    },
    "id": "9GntC2nSvR4c",
    "outputId": "436c753d-12c1-4a42-e2be-41f18f7af5b4"
   },
   "outputs": [],
   "source": [
    "# Line chart with zoom for Accuracy & F1\n",
    "plt.figure(figsize=(8,5))\n",
    "plt.plot(df[\"Model\"], df[\"Accuracy\"], marker=\"o\", label=\"Accuracy\")\n",
    "plt.plot(df[\"Model\"], df[\"F1 Score\"], marker=\"o\", label=\"F1 Score\")\n",
    "\n",
    "plt.ylim(0.94, 0.97)\n",
    "plt.title(\"Accuracy vs F1 (Zoomed)\")\n",
    "plt.ylabel(\"Score\")\n",
    "plt.grid(True, linestyle=\"--\", alpha=0.7)\n",
    "plt.legend()\n",
    "plt.show()"
   ]
  },
  {
   "cell_type": "code",
   "execution_count": null,
   "metadata": {
    "id": "_xYnDLj9wVdg"
   },
   "outputs": [],
   "source": []
  }
 ],
 "metadata": {
  "accelerator": "GPU",
  "colab": {
   "gpuType": "T4",
   "provenance": []
  },
  "kernelspec": {
   "display_name": "Python 3",
   "name": "python3"
  },
  "language_info": {
   "name": "python"
  }
 },
 "nbformat": 4,
 "nbformat_minor": 0
}
